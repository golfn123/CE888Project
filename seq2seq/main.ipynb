{
  "nbformat": 4,
  "nbformat_minor": 0,
  "metadata": {
    "colab": {
      "name": "Seq2Seq.ipynb",
      "provenance": [],
      "authorship_tag": "ABX9TyMi5RfyCYZE2hsboBV4fw1p",
      "include_colab_link": true
    },
    "kernelspec": {
      "name": "python3",
      "display_name": "Python 3"
    },
    "language_info": {
      "name": "python"
    }
  },
  "cells": [
    {
      "cell_type": "markdown",
      "metadata": {
        "id": "view-in-github",
        "colab_type": "text"
      },
      "source": [
        "<a href=\"https://colab.research.google.com/github/golfn123/CE888Project/blob/main/seq2seq/main.ipynb\" target=\"_parent\"><img src=\"https://colab.research.google.com/assets/colab-badge.svg\" alt=\"Open In Colab\"/></a>"
      ]
    },
    {
      "cell_type": "code",
      "execution_count": 2,
      "metadata": {
        "id": "LeUqMKsaaSTF"
      },
      "outputs": [],
      "source": [
        "import pandas as pd\n",
        "from keras.models import Model\n",
        "from keras.layers import Input, LSTM, Dense"
      ]
    },
    {
      "cell_type": "code",
      "source": [
        "df = pd.read_json('https://raw.githubusercontent.com/golfn123/CE888Project/main/seq2seq/train_spider.json')\n",
        "df.head"
      ],
      "metadata": {
        "colab": {
          "base_uri": "https://localhost:8080/"
        },
        "id": "pMsTQIhCa2nj",
        "outputId": "6eac76c9-9029-4b47-e473-d04f8a36ca4c"
      },
      "execution_count": 5,
      "outputs": [
        {
          "output_type": "execute_result",
          "data": {
            "text/plain": [
              "<bound method NDFrame.head of                       db_id  ...                                                sql\n",
              "0     department_management  ...  {'from': {'table_units': [['table_unit', 1]], ...\n",
              "1     department_management  ...  {'from': {'table_units': [['table_unit', 1]], ...\n",
              "2     department_management  ...  {'from': {'table_units': [['table_unit', 0]], ...\n",
              "3     department_management  ...  {'from': {'table_units': [['table_unit', 0]], ...\n",
              "4     department_management  ...  {'from': {'table_units': [['table_unit', 0]], ...\n",
              "...                     ...  ...                                                ...\n",
              "6995        culture_company  ...  {'from': {'table_units': [['table_unit', 2], [...\n",
              "6996        culture_company  ...  {'from': {'table_units': [['table_unit', 1], [...\n",
              "6997        culture_company  ...  {'from': {'table_units': [['table_unit', 1], [...\n",
              "6998        culture_company  ...  {'from': {'table_units': [['table_unit', 1], [...\n",
              "6999        culture_company  ...  {'from': {'table_units': [['table_unit', 1], [...\n",
              "\n",
              "[7000 rows x 7 columns]>"
            ]
          },
          "metadata": {},
          "execution_count": 5
        }
      ]
    },
    {
      "cell_type": "code",
      "source": [
        "input = df['question']\n",
        "input"
      ],
      "metadata": {
        "colab": {
          "base_uri": "https://localhost:8080/"
        },
        "id": "GwGpvoeOcQLM",
        "outputId": "45b2f891-d717-4957-a8a0-86d5f32e7f26"
      },
      "execution_count": 8,
      "outputs": [
        {
          "output_type": "execute_result",
          "data": {
            "text/plain": [
              "0       How many heads of the departments are older th...\n",
              "1       List the name, born state and age of the heads...\n",
              "2       List the creation year, name and budget of eac...\n",
              "3       What are the maximum and minimum budget of the...\n",
              "4       What is the average number of employees of the...\n",
              "                              ...                        \n",
              "6995    What are all the company names that have a boo...\n",
              "6996    Show the movie titles and book titles for all ...\n",
              "6997    What are the titles of movies and books corres...\n",
              "6998    Show all company names with a movie directed i...\n",
              "6999    What are all company names that have a corresp...\n",
              "Name: question, Length: 7000, dtype: object"
            ]
          },
          "metadata": {},
          "execution_count": 8
        }
      ]
    },
    {
      "cell_type": "code",
      "source": [
        "output = df['sql']\n",
        "output"
      ],
      "metadata": {
        "colab": {
          "base_uri": "https://localhost:8080/"
        },
        "id": "WfAEzG9icYzr",
        "outputId": "8919c6c5-83d3-4e0e-d42d-175650b8fc0b"
      },
      "execution_count": 9,
      "outputs": [
        {
          "output_type": "execute_result",
          "data": {
            "text/plain": [
              "0       {'from': {'table_units': [['table_unit', 1]], ...\n",
              "1       {'from': {'table_units': [['table_unit', 1]], ...\n",
              "2       {'from': {'table_units': [['table_unit', 0]], ...\n",
              "3       {'from': {'table_units': [['table_unit', 0]], ...\n",
              "4       {'from': {'table_units': [['table_unit', 0]], ...\n",
              "                              ...                        \n",
              "6995    {'from': {'table_units': [['table_unit', 2], [...\n",
              "6996    {'from': {'table_units': [['table_unit', 1], [...\n",
              "6997    {'from': {'table_units': [['table_unit', 1], [...\n",
              "6998    {'from': {'table_units': [['table_unit', 1], [...\n",
              "6999    {'from': {'table_units': [['table_unit', 1], [...\n",
              "Name: sql, Length: 7000, dtype: object"
            ]
          },
          "metadata": {},
          "execution_count": 9
        }
      ]
    },
    {
      "cell_type": "code",
      "source": [
        ""
      ],
      "metadata": {
        "id": "TfP4t5Jwcdc8"
      },
      "execution_count": null,
      "outputs": []
    }
  ]
}