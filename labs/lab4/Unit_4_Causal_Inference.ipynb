{
  "nbformat": 4,
  "nbformat_minor": 0,
  "metadata": {
    "colab": {
      "name": "Copy of Unit 4 - Causal Inference.ipynb",
      "provenance": [],
      "collapsed_sections": [
        "6HGVdq5cJt6h",
        "0eBED4jiaxQs",
        "m1WyX2Pezt5w",
        "2HFqEdiNJsud",
        "bRS7hD6qaakG",
        "yzWpGENcPiYO",
        "eqwQ6RAGPrfQ",
        "ickoIjajWi3V",
        "WvFG0eBpv5t_",
        "w6Aj1em1v_Sa",
        "towjDjnOIAC1",
        "CZlg6jhhwFF2",
        "zTai68e3wHgb",
        "7Op8qjQsgn-f",
        "EgX0f71-voK2",
        "MLWZ7k7KiWkc",
        "h_DyjDFLPyyO",
        "pUN--8UUbco7"
      ],
      "include_colab_link": true
    },
    "kernelspec": {
      "name": "python3",
      "display_name": "Python 3"
    },
    "language_info": {
      "name": "python"
    }
  },
  "cells": [
    {
      "cell_type": "markdown",
      "metadata": {
        "id": "view-in-github",
        "colab_type": "text"
      },
      "source": [
        "<a href=\"https://colab.research.google.com/github/golfn123/CE888Project/blob/main/labs/lab4/Unit_4_Causal_Inference.ipynb\" target=\"_parent\"><img src=\"https://colab.research.google.com/assets/colab-badge.svg\" alt=\"Open In Colab\"/></a>"
      ]
    },
    {
      "cell_type": "markdown",
      "metadata": {
        "id": "_-ZZIkD8BaaC"
      },
      "source": [
        "# Unit 4 - Causal Inference\n",
        "\n",
        "We are going to combine our knowledge of regression and classification methods to estimate causal effects in observational data.\n",
        "\n",
        "We will play around with two datasets of two different kinds:\n",
        "- Average effect (sodium)\n",
        "- Heterogeneous effect (toy dataset)\n",
        "\n",
        "Steps we are going to take:\n",
        "1. Importing packages.\n",
        "2. Average effect:\n",
        "  1. Problem description.\n",
        "  2. Evaluation metrics.\n",
        "  3. Loading and exploring the data.\n",
        "  4. Data pre-processing.\n",
        "  5. Training the models.\n",
        "  6. Performance evaluation.\n",
        "3. Heterogeneous effect:\n",
        "  1. Repeat the same steps as for the average effect."
      ]
    },
    {
      "cell_type": "markdown",
      "metadata": {
        "id": "6HGVdq5cJt6h"
      },
      "source": [
        "## Step 1 - packages"
      ]
    },
    {
      "cell_type": "markdown",
      "metadata": {
        "id": "udhdowJ8Jw3C"
      },
      "source": [
        "Google Colab has loads of pre-installed packages already. What if we need more? We can install additional packages by knowing that:\n",
        "- The exclamation mark ('!') gives us access to the Linux command line that runs behind our notebook.\n",
        "- We can access the default python's package manager with the command 'pip'.\n",
        "\n",
        "In our case, we are interested in using the [EconML](https://econml.azurewebsites.net/index.html) package, which is not part of the default Colab environment. We can install it via the following command:"
      ]
    },
    {
      "cell_type": "code",
      "metadata": {
        "id": "12hISSkts2bJ",
        "colab": {
          "base_uri": "https://localhost:8080/"
        },
        "outputId": "01282603-9b2a-4f24-b806-d205c3d62730"
      },
      "source": [
        "!pip install econml"
      ],
      "execution_count": 1,
      "outputs": [
        {
          "output_type": "stream",
          "name": "stdout",
          "text": [
            "Collecting econml\n",
            "  Downloading econml-0.13.0-cp37-cp37m-manylinux_2_17_x86_64.manylinux2014_x86_64.whl (3.3 MB)\n",
            "\u001b[K     |████████████████████████████████| 3.3 MB 20.6 MB/s \n",
            "\u001b[?25hCollecting sparse\n",
            "  Downloading sparse-0.13.0-py2.py3-none-any.whl (77 kB)\n",
            "\u001b[K     |████████████████████████████████| 77 kB 5.9 MB/s \n",
            "\u001b[?25hRequirement already satisfied: statsmodels>=0.10 in /usr/local/lib/python3.7/dist-packages (from econml) (0.10.2)\n",
            "Requirement already satisfied: scipy>1.4.0 in /usr/local/lib/python3.7/dist-packages (from econml) (1.4.1)\n",
            "Requirement already satisfied: lightgbm in /usr/local/lib/python3.7/dist-packages (from econml) (2.2.3)\n",
            "Requirement already satisfied: numpy in /usr/local/lib/python3.7/dist-packages (from econml) (1.19.5)\n",
            "Requirement already satisfied: pandas in /usr/local/lib/python3.7/dist-packages (from econml) (1.3.5)\n",
            "Requirement already satisfied: scikit-learn>0.22.0 in /usr/local/lib/python3.7/dist-packages (from econml) (1.0.2)\n",
            "Collecting shap<0.40.0,>=0.38.1\n",
            "  Downloading shap-0.39.0.tar.gz (356 kB)\n",
            "\u001b[K     |████████████████████████████████| 356 kB 22.7 MB/s \n",
            "\u001b[?25hCollecting dowhy<0.7\n",
            "  Downloading dowhy-0.6-py3-none-any.whl (123 kB)\n",
            "\u001b[K     |████████████████████████████████| 123 kB 49.3 MB/s \n",
            "\u001b[?25hRequirement already satisfied: joblib>=0.13.0 in /usr/local/lib/python3.7/dist-packages (from econml) (1.1.0)\n",
            "Collecting pydot>=1.4\n",
            "  Downloading pydot-1.4.2-py2.py3-none-any.whl (21 kB)\n",
            "Requirement already satisfied: networkx>=2.0 in /usr/local/lib/python3.7/dist-packages (from dowhy<0.7->econml) (2.6.3)\n",
            "Requirement already satisfied: sympy>=1.4 in /usr/local/lib/python3.7/dist-packages (from dowhy<0.7->econml) (1.7.1)\n",
            "Requirement already satisfied: pytz>=2017.3 in /usr/local/lib/python3.7/dist-packages (from pandas->econml) (2018.9)\n",
            "Requirement already satisfied: python-dateutil>=2.7.3 in /usr/local/lib/python3.7/dist-packages (from pandas->econml) (2.8.2)\n",
            "Requirement already satisfied: pyparsing>=2.1.4 in /usr/local/lib/python3.7/dist-packages (from pydot>=1.4->dowhy<0.7->econml) (3.0.7)\n",
            "Requirement already satisfied: six>=1.5 in /usr/local/lib/python3.7/dist-packages (from python-dateutil>=2.7.3->pandas->econml) (1.15.0)\n",
            "Requirement already satisfied: threadpoolctl>=2.0.0 in /usr/local/lib/python3.7/dist-packages (from scikit-learn>0.22.0->econml) (3.1.0)\n",
            "Requirement already satisfied: tqdm>4.25.0 in /usr/local/lib/python3.7/dist-packages (from shap<0.40.0,>=0.38.1->econml) (4.62.3)\n",
            "Collecting slicer==0.0.7\n",
            "  Downloading slicer-0.0.7-py3-none-any.whl (14 kB)\n",
            "Requirement already satisfied: numba in /usr/local/lib/python3.7/dist-packages (from shap<0.40.0,>=0.38.1->econml) (0.51.2)\n",
            "Requirement already satisfied: cloudpickle in /usr/local/lib/python3.7/dist-packages (from shap<0.40.0,>=0.38.1->econml) (1.3.0)\n",
            "Requirement already satisfied: patsy>=0.4.0 in /usr/local/lib/python3.7/dist-packages (from statsmodels>=0.10->econml) (0.5.2)\n",
            "Requirement already satisfied: mpmath>=0.19 in /usr/local/lib/python3.7/dist-packages (from sympy>=1.4->dowhy<0.7->econml) (1.2.1)\n",
            "Requirement already satisfied: llvmlite<0.35,>=0.34.0.dev0 in /usr/local/lib/python3.7/dist-packages (from numba->shap<0.40.0,>=0.38.1->econml) (0.34.0)\n",
            "Requirement already satisfied: setuptools in /usr/local/lib/python3.7/dist-packages (from numba->shap<0.40.0,>=0.38.1->econml) (57.4.0)\n",
            "Building wheels for collected packages: shap\n",
            "  Building wheel for shap (setup.py) ... \u001b[?25l\u001b[?25hdone\n",
            "  Created wheel for shap: filename=shap-0.39.0-cp37-cp37m-linux_x86_64.whl size=491644 sha256=fe3420c25a60df8bf8d87533131e654b999b443ae6089dc8dccc6f43c542f288\n",
            "  Stored in directory: /root/.cache/pip/wheels/ca/25/8f/6ae5df62c32651cd719e972e738a8aaa4a87414c4d2b14c9c0\n",
            "Successfully built shap\n",
            "Installing collected packages: slicer, pydot, sparse, shap, dowhy, econml\n",
            "  Attempting uninstall: pydot\n",
            "    Found existing installation: pydot 1.3.0\n",
            "    Uninstalling pydot-1.3.0:\n",
            "      Successfully uninstalled pydot-1.3.0\n",
            "Successfully installed dowhy-0.6 econml-0.13.0 pydot-1.4.2 shap-0.39.0 slicer-0.0.7 sparse-0.13.0\n"
          ]
        }
      ]
    },
    {
      "cell_type": "markdown",
      "metadata": {
        "id": "UGDzbwBGMFwL"
      },
      "source": [
        "Note this command has to be executed everytime you restart the notebook.\n",
        "\n",
        "Note to people using local Jupyter notebooks - you will have to execute the pip command in your local environment. It may not work from the notebook itself.\n",
        "\n",
        "Now, we can import anything we need from EconML, together with the rest of the packages we need."
      ]
    },
    {
      "cell_type": "code",
      "metadata": {
        "id": "WsdoBHUxtWPC",
        "colab": {
          "base_uri": "https://localhost:8080/"
        },
        "outputId": "595d13f3-3b81-448c-bcf9-1f8fdb8cb033"
      },
      "source": [
        "from econml.metalearners import XLearner\n",
        "from sklearn.ensemble import RandomForestRegressor, RandomForestClassifier\n",
        "from sklearn.model_selection import train_test_split\n",
        "from sklearn.preprocessing import StandardScaler\n",
        "import numpy as np\n",
        "import pandas as pd\n",
        "import scipy.stats as st\n",
        "import matplotlib.pyplot as plt"
      ],
      "execution_count": 2,
      "outputs": [
        {
          "output_type": "stream",
          "name": "stderr",
          "text": [
            "/usr/local/lib/python3.7/dist-packages/statsmodels/tools/_testing.py:19: FutureWarning: pandas.util.testing is deprecated. Use the functions in the public API at pandas.testing instead.\n",
            "  import pandas.util.testing as tm\n"
          ]
        }
      ]
    },
    {
      "cell_type": "markdown",
      "source": [
        "## Step 2 - Average effect"
      ],
      "metadata": {
        "id": "0eBED4jiaxQs"
      }
    },
    {
      "cell_type": "markdown",
      "metadata": {
        "id": "m1WyX2Pezt5w"
      },
      "source": [
        "### Step 2.1 - problem setting\n",
        "\n"
      ]
    },
    {
      "cell_type": "markdown",
      "metadata": {
        "id": "GJfxTA4BPZ27"
      },
      "source": [
        "This is a simplified version of a model that simulates the effect of sodium intake on blood pressure. Officially proposed in ([Luque-Fernandez et al. 2019](https://academic.oup.com/ije/article/48/2/640/5248195)).\n",
        "\n",
        "\n",
        "We are given three covariates: age (A), sodium (S), and blood pressure (B). We are interested in the effect of sodium intake on blood pressure. In addition, we know that age affects both variables - confounder. Here is the assumed causal graph:\n",
        "\n",
        "![](data:image/png;base64,iVBORw0KGgoAAAANSUhEUgAAAUEAAAC+CAYAAACrvb1JAAAEjXRFWHRteGZpbGUAJTNDbXhmaWxlJTIwaG9zdCUzRCUyMkVsZWN0cm9uJTIyJTIwbW9kaWZpZWQlM0QlMjIyMDIwLTExLTI2VDE2JTNBNTIlM0E1Mi44NzdaJTIyJTIwYWdlbnQlM0QlMjI1LjAlMjAoV2luZG93cyUyME5UJTIwMTAuMCUzQiUyMFdpbjY0JTNCJTIweDY0KSUyMEFwcGxlV2ViS2l0JTJGNTM3LjM2JTIwKEtIVE1MJTJDJTIwbGlrZSUyMEdlY2tvKSUyMGRyYXcuaW8lMkYxMy45LjklMjBDaHJvbWUlMkY4NS4wLjQxODMuMTIxJTIwRWxlY3Ryb24lMkYxMC4xLjUlMjBTYWZhcmklMkY1MzcuMzYlMjIlMjBldGFnJTNEJTIyc3BNUHo0QTd3MTJGRGp0TV95MVAlMjIlMjB2ZXJzaW9uJTNEJTIyMTMuOS45JTIyJTIwdHlwZSUzRCUyMmRldmljZSUyMiUzRSUzQ2RpYWdyYW0lMjBpZCUzRCUyMkROTGdyM0ZZMkRkbHMyaHpialFzJTIyJTIwbmFtZSUzRCUyMlBhZ2UtMSUyMiUzRTFWWk5iNXRBRVAwMUhGUHg0YThlYXp0TkQya3ZISnowdG9JeGtDd01XZzhHJTJCdXU3NngwTUNObEtwVVNOVDh1OG1mMTZiJTJCY0pKOWprellNU1pmb1RZNUNPNzhhTkUyd2QzJTJGZGNmNllIZzdRV1diaWVCUktWeFZ6VUEySDJCN3FaakZaWkRJZFJJU0ZLeXNveEdHRlJRRVFqVENpRjliaHNqM0s4YXlrU21BQmhKT1FVM1dVeHBZeDZpNjk5NGdka1NjcGJyJTJGeWxUZVRpWEd5QlF5cGlyQzEwdWx4dzd3UWJoVWoySzI4MklBMTVIUyUyQldnZThYc3VlREtTam9MUk9rRiUyQjZXVDhXT291ZGp1JTJGdTllcnlMZjkxNVBoJTJCTzJ1N0dFR3NDT0N5dzBNTmFZVlhFWU5aeGRZU0tVa3l3RVBJUnNkU2dwOEVYSUdwWlBsRVJhaWlsWEhKV0gxRzFUenolMkZGRHliNE11OEM3Zk5NTGx0T2RwalFieW9iJTJCSURLWHc5QzZFcFhFOVo2T2pHU2tWdzdlcjhtb1JLZ0s3VU1VT0dsc0VHelBFRFlBNzZ4THBBZ1JTVUhjZnZSdkR6Uzg1MXZVTDZnMFg2RjhIc3VrY2hLOTdKTVMwMkMlMkIwd1ZWTkszU3BHeERyTkNNSlNuRWlwZGJlT0pSS0gwdmJQUG11TTFCUHVMeko5QkVYUVhPV0dzd0UlMkZVWmZOSUZoeUY5VjlheTI0SkIwMFZZZTlPNXYlMkJCVGJYdDhEbWZQWEoyT3c4ZTBEWVJ6bkhmJTJGU040RFo5dzV0bzg2Rkc3OTJhWE42bmtpdTRZRXpmYnNHWVp2T3hNZmxkJTJGUDdHcE1QJTJCRCUyQnFVRyUyRnlIQnZkJTJGQVElM0QlM0QlM0MlMkZkaWFncmFtJTNFJTNDJTJGbXhmaWxlJTNF5WfZdwAAIABJREFUeF7tXQuYjmX6v4cRaWfb6TK1KiwtZXWZUVg2bKWiKMnZ5FASkxTlmBBWGKST1HYQmxxSKIqk3dCaRWFKyixWkmU6rFi1mfhfv3v3/f7fzHwz8833vc/7vYfffV2uYXzvc/g9z/d77+d57ud3J50+ffq00IiAQQQ+/PBD2bx5s+Tm5kpeXp58/vnnkp+fL8eOHZOCggJJTk6WlJQUSUtLk5o1a0rdunWlYcOG0rRpU7nssssMtoxFEwGRJJIgp4EJBF599VVZsWKFrF69Ws4991xp1qyZpKeny8UXXyy1atXS34H4QIAgQhDikSNHZP/+/fLZZ5/Jjh07JCcnR3/Xtm1b6dChg3Tq1MlEU1lmwBEgCQZ8AtjZ/X379snTTz8tc+fOlYyMDOnYsaO0a9dOvbtYDV7jqlWrZNmyZbJ9+3a57bbbZODAgVK7du1Yi+RzRKAQAiRBToi4EThw4IBMmTJFXnzxRRk0aJDccccd6vHZbfAQn3vuOZk9e7b07dtXRo8eLTVq1LC7GpYXMARIggEbcLu7O3XqVBk7dqwMGzZMRowYIampqXZXUay8b7/9VrKzs2XGjBkyadIkGTVqlPE6WYF/ESAJ+ndsjfZs27ZtMnjwYN3bgxdowvMrqwPwDOENYt/wiSeekEaNGpX1CP+fCBRDgCTISVFuBJ5//nld8j711FOSlZVV7uftfmDOnDly11136VK5X79+dhfP8nyOAEnQ5wNsd/fGjBmjp744/GjSpIndxcdc3pYtW/TQBKfIkydPjrkcPhg8BEiCwRvzmHuMQ4/du3fL4sWL5Zxzzom5HFMPfvPNN9KtWzepV6+eHp7QiEA0CJAEo0GJn9FTX5wCv/76665H46abbtJTYxKh64fKFQ0kCbpiGNzdCCyBceNj7dq17m5oWOuuvfZavXHCpbFnhixhDSUJJgx6b1SMQ5BZs2bJ+vXrXbkELglFLI1btWolQ4cO5WGJN6ZawlpJEkwY9O6vGGEwuLsLL9BNhyDRIofDEniDuLvM8JloUQve50iCwRvzqHvcokULyczMdEUYTNSNLvJBhM8sWLBANm7cGGsRfM7nCJAEfT7AsXYPN0HgAb722muxFuGa52655Rb1CHmzxDVD4qqGkARdNRzuaAxOgevUqSMff/xxQm6C2I0CbpZceumlsnfvXt41thtcH5RHEvTBINrdBdy+OPvss/U6nF8M1+uOHj2qt1xoRCAcAZIg50MhBCCH1aBBAzl48KAjYghOwQ/RhQsuuEB27txJGS6nQPdIPSRBjwyUU80cOXKknDp1SqZPn+5UlY7VM3z4cKlQoYJMmzbNsTpZkfsRIAm6f4wcbSFUYTZs2JCQvUCQL7I9VKxY0UifsTfYsmVLVZ2hEQELAZIg50IIAUjiP/PMM/L22287jgoIEOE4X375pfz5z39Wj82EXXfddTJgwABK9ZsA16NlkgQ9OnAmmt27d29p3rx5QuICEct36623yiWXXKKn0qa8QcQNbtq0SebPn28CQpbpQQRIgh4cNFNNxlJ469atceUEiaVtx48f12UqcojgVPrrr782RoLIWdK4cWMuiWMZKJ8+QxL06cCWt1u4WgZPEF6Y0zZu3DjBUvyTTz7RqkGCJqW6EDMIT5DpPJ0eaXfWRxJ057g43ipkiYMXCHVmJ23Pnj3yu9/9TkkJqTVhIMP69esbawZUseENImsdjQiQBDkHFAEESIN4kDfESYMcfuXKleX2228PiTTgYOTKK6801gzkI9m1axcDp40h7K2CSYLeGi9jrYX+HuLocHrqlCHB+tVXXy3vvvuupKWlaTAzbOHChdK9e3djzcDpN+IgvaSPaAwMFiwkQU4CRQDZ4qAa7VTWOITEwPtDYvYJEybITz/9JJUqVdK2QL9wyJAhxkYG8YJQn8ZPGhEgCXIOKAI4iMD+nBN5g1Hf+++/ryEx1okwSPH888+Xw4cPq0eKvMKmDFfoLrroIoHwKo0IkAQ5BxQBeGHff/+9JCcnG0cEhNerVy+56qqrVPU5KSlJr+plZGTIRx99JD179pSXXnpJf2/CCgoK5Mwzz5STJ0+aKJ5legwBkqDHBsxUc0E4uLLmhK1Zs0ZPZvPy8vRmiFV3u3btZPXq1fL73/9eb42YIkH00cn+OoEp64gdAZJg7Nj56kmnPEF4fBA5xZI0Esm99957qmVoEaQJkOkJmkDVu2WSBL07dra23Kk9QSRumjlzpnTu3LlY+0GKEydO1JCZEydOGLs/zD1BW6eO5wsjCXp+CO3pgBOnw999952kp6drQHbr1q2LNRxhKyNGjNDf5+fnS7Vq1ezpXJFSeDpsBFbPFkoS9OzQ2dtw03GC2G8cP368Zn5bvnx5xAMYKNhYtzhwQILrbSaMcYImUPVumSRB746drS03fWPkr3/9q3Tp0kUWLVqkYgmRbNmyZbpfCHvnnXcieot2dJo3RuxA0T9lkAT9M5Zx9cTE3WEcgqxbt05PfCFhhRAcBEJDqCFcIAEJkHJzczWz3Z/+9Cftx7PPPitnnXWW3HDDDaosY6fx7rCdaHq/LJKg98fQlh6YUJGB14clLpbC4eE3IEHEB1o2duxYwakwDkasE2MQKMJn8H+R9g/j6TRVZOJBz3/PkgT9N6Yx98iEniCuw1nB0GgY/m7FBloNtWT1w2P3rL8X/WzMnfvfg9QTjBdB/z1PEvTfmMbco0QqS8fc6HI+SGXpcgIWgI+TBAMwyNF2MZE5RqJtY7yfY46ReBH03/MkQf+NaVw9SmS2ubgaHsXDzDYXBUgB/AhJMICDXlqXmXeYEyJoCJAEgzbiZfR337590qBBAzl48KBjslpODAGuykG0defOnVK7dm0nqmQdHkGAJOiRgXKymQicRmzelClTnKzWaF2jR4+Wo0ePUlLfKMreLJwk6M1xM9rqAwcOqJILMs85pTRtskPYC0RsIIKya9SoYbIqlu1BBEiCHhw0J5o8depU2bx5s97i8LrhKl7Tpk1l1KhRXu8K228AAZKgAVD9UmSLFi0kMzNTsrKyPNslxAUuWLBANm7c6Nk+sOFmESAJmsXX06Vv27ZNE5TDI2zSpInn+rJlyxb1AHElsFGjRp5rPxvsDAIkQWdw9mwtEEGF6MH69esLiR64vUNIotSqVSsZOnRooXvKbm832+c8AiRB5zH3XI1jxoyRTZs2aX5grxjyGTdv3lwmT57slSaznQlCgCSYIOC9VC3205CnF6SyatUq1zcdCZtA2sijjH1NGhEoDQGSIOdHqQhs2LBBbrzxRo2xQxB19erVZfHixa5cGmMJ3K1bNzl06JAGRSPW8Y033ihRxJVDTwSAAEmQ86BEBKDxBwI8duyYnhIjFzCWxitWrJC5c+e66rAEhyC33XabdOjQQZfASOyOU+GUlBQlQqTxpBGBSAiQBDkvIiKAvL8gwH//+9+aKH3+/Pmhz+GwBOrMTz31lCvCZxAGg1suSOAULtYKaTAoVUOhGkSIZO80IlAUAZIg50QxBHAAAgJE2ksQybx584p9BuEzgwcPFqjO4HpdIm6W4CYIrsMdOXJEkDckUhhMnz59lMCrVq2qRIgDExoRCEeAJMj5UAgBJDgCAf7www/St29fXfaWZrhZAgn8YcOGabrM1NRU44hCDCE7O1tmzJghkyZNKvMmCJbJL774olSpUkWJ8JprrjHeRlbgHQRIgt4ZK+MtXbt2rbRv315+/PFHuf322wXL3mgMd43hDYJoBg0apEtlE54hPD8seWfPnq0EDS8w2rvAWCa/8MILcsYZZ8jKlSsFKUZpRAAIkAQ5DxSBNWvWqAd48uRJ3VcD2ZTXIMOFrHXwHjMyMqRjx46CcJWaNWuWt6jQ55ETBGE5SMe5fft2PfxAbuJY5LBAziD2SpUqqUfYpk2bmNvFB/2DAEnQP2MZc0/eeustJUAkRerfv7/88Y9/jLks60FI9eMUGek2sW/YrFkzSU9PVw+xVq1a+juc3CYnJ0tBQYGeQGNvb//+/QKPb8eOHZKTk6O/a9u2rZ76durUKe523XnnnZrOs2LFikqE119/fdxlsgBvI0AS9Pb4xd36N998U5fASIk5YMAA9eTsNtzdxf1j5BbOy8sTeHf5+flKfCBAECEIMS0tTb3GunXrSsOGDfXeL+4u223wJJEKFBntsDRGbmNacBEgCQZ37JUA4AHCQAwINQmKQRnHInx4hHgR0IKJAEkwmOOuV8qwxIQhxg6HDUEzHOIg1hGGpTuuBtKChwBJMHhjrl/4m2++WXt+9913a4xdUA2xjk8++aR2f/ny5aEXQ1DxCGK/SYIBG3WcskJpGQYCePzxxwOGQPHu3nPPPaEXAZS0capNCw4CJMHgjLXgxLZz587a43vvvVceffTRAPW+9K4OGTJEHnvsMf3Q0qVLbTmJJrjeQIAk6I1xiruV+GJ36dJFy4HQ6COPPBJ3mX4r4L777lMBWdgrr7wSemH4rZ/sT2EESIIBmBFLlixRiSkYvugzZ84MQK9j6+L9998fekFAMqxr166xFcSnPIMASdAzQxVbQxctWiQ9evTQh3G/d/r06bEVFKCnhg8frveSYQsXLpTu3bsHqPfB6ypJ0Mdjji9wz549tYcQN5g2bZqPe2tv10aOHKkiDbCXX3459CKxtxaW5gYESIJuGAUDbYCgKIRFYfhCQ+2FVj4EkKfYenFAUBbCsjT/IUAS9N+YqpAodABhUFp5+OGHfdhLZ7r0wAMPqEIODLqEEJil+QsBkqC/xlO/qBAShUEK/w9/+IPPeuh8dx588MFQ1joIzFovGOdbwhpNIEASNIFqgsqEnh+kpmD44kJwlGYPAhCOtV4okAqDniHNHwiQBP0xjioYauXXGDdunEyYMMEnPXNPN8aPHy8TJ07UBkGXEMKzNO8jQBL0/hjqFxKCobCHHnpI8GWlmUEALxdgDCua2MlMjSzVNAIkQdMIGy4fAqEQCoXhCwovkGYWAXiD1osGArQQoqV5FwGSoHfHToVBoQMIw/4f9gFpziCA/UHsE8KgSwhBWpo3ESAJenPc9IsHYVAYko0jlIPmLAIIPcIJPAyCtNYLydlWsLZ4ESAJxotgAp6HECgEQWH4IiIWkJYYBBBDaL2AIEwLgVqatxAgCXprvFQAFDqAMNwCwW0QWmIRwK0S3C6BQaAWQrU07yBAEvTOWOkXDAKgMNxrxUV/mjsQgDAF7mfDIFRrvajc0Tq2ojQESIIemR8Q/ITwJwxfOCjC0NyFAJRnrBcTBGshXEtzPwIkQfePkQp9QgcQBi1A6+8eaHrgmgixWmgSwvB3CNjS3I0ASdDd46NfJOtLBTK0vEGXNzvQzYMXaJEfX1runwokQRePEZdXLh6cMprG7QvvjB1J0KVjhYMP6+SXG+0uHaQymhV+kIUTZOvgxJu98W+rSYIuHNvwkAuExFgxgS5sKptUBgKIHbRCZhjS5M7pQhJ02bgw+NZlA2JDcxjcbgOIBosgCRoEt7xF8xpWeRHzzud5zdG9Y0USdMnYhF/IhzCCpQzjkuaxGTYgAMUZS2iBghc2AGpTESRBm4CMpxhKM8WDnreepfSZ+8aLJJjgMaFIZ4IHIAHVUwQ3AaCXUiVJMIHjES7XDnl8Kz9IApvEqh1CAHlKLHl+pkNwCPQSqiEJJgh/Ju5JEPAuqpaJsdwxGCTBBIwDUzgmAHSXVskUqYkfGJKgw2MQnswbSdJvvfVWh1vA6tyGwEsvvRRK6g6BXIRK0ZxDgCToHNYqvInbIDBM/MzMTAdrZ1VuRmDBggWhFyKuS+J2Cc0ZBEiCzuCs94BxHxj28ssvS48ePRyqmdV4BYGFCxdKz549tbm4Z2y9ML3Sfq+2kyTowMhBaBOKMLBFixZJt27dHKiVVXgRgcWLF0v37t216RDOhYAuzSwCJEGz+KoWIDQBYZjgXbt2NVwji/c6AkuWLAm9KCGgC01CmjkESILmsFVhTQhswl555RXp3LmzwdpYtJ8QWLp0qXTp0kW7BCFdCOrSzCBAEjSDq05cCGvCXn31VbnlllsM1cRi/YrAa6+9Jp06ddLuIV+J9UL1a38T1S+SoAHkkREOgpowTOSOHTsaqIVFBgGBZcuWhV6gyGAHgV2avQiQBO3FUwU0IaQJW758uXTo0MHmGlhc0BBYsWKF3HzzzdptCOxCaJdmHwIkQfuw1AkKAU3Y66+/LjfeeKONpbOoICPwxhtvyE033aQQ3HXXXaEXbZAxsavvJEGbkMzKyhIIZ8IwYdu3b29TySyGCPwXgZUrV4ZerAMHDpQ5c+YQGhsQIAnaACKEMiGYWaFCBSXAG264wYZSWQQRKI7Am2++qUR46tQpFd6FAC8tPgRIgvHhpxMRQpkVK1bUN3Xbtm3jLJGPE4HSEVi9erWuNH766Sfp37+/voBpsSNAEowdO7njjjsEApmVKlVSD7BNmzZxlMZHiUD0CKxZs0Y9wpMnT0q/fv3kueeei/5hfrIQAiTBGCcEBDEhjFm5cmUlwGuvvTbGkvgYEYgNgbVr1yoR/uc//1FBXgjz0sqPAEmw/JjphIMgZpUqVXQJ3Lp16xhK4SNEIH4E1q1bp0vjH374Qfr27asvZlr5ECAJlg8v6dOnj0AIs2rVquoBXn311eUsgR8nAvYi8O6776pHeOLECendu7fMmzfP3gp8XhpJsBwD3KtXL9UB/NnPfqYEeOWVV5bjaX6UCJhD4C9/+YsS4fHjx1WXEIK9tOgQIAlGh5NOLAhfpqSk6BK4VatWUT7JjxEBZxBYv369Lo2PHTumgr14YdPKRoAkWDZGKnQJwcuzzz5bPcCWLVtG8RQ/QgScR2DDhg3qER49elSFeyHgSysdAZJgGTMEApfQAUxNTVUCvOKKKziniICrEXj//feVCL/99lvVJYSQL61kBEiCpcwOTCAIXJ5zzjm6BG7evDnnEhHwBAKbNm3SpfE333yjQr54kdMiI0ASLGFmQNASwpbVqlVTD7BZs2acQ0TAUwjk5OSoR/jVV1+poC+EfWnFESAJRpgVELKEDuC5556rBNi0aVPOHSLgSQQ2b96sRHjkyBHVJYTAL60wAiTBIjMCEwVCluedd54ugRs3bsw5QwQ8jcDWrVt1aXz48GEV+MULnvb/CJAEw2YDhCshYFm9enX1AC+//HLOFSLgCwQ++OAD9QgPHTqkQr8Q/KX9FwGS4P9mAgQrQXwXXHCB/mzUqBHnCBHwFQLbtm1TIjx48KD+hPAvjSSocwATAkvfCy+8UH+mp6dzbhABXyKwY8cOXRp/8cUX+hMv/KBboD3B06dP60SAUGXNmjV1QjRs2DDoc4L99zkCubm5+uL//PPPVQAYL/6kpCSf97rk7vmeBHGnMtIdXwhSggAhUPmrX/1KCfDSSy8N7ERgx4OFwMcff6xE+I9//EOFgEGEEAYuaiV9f/yElq9JEJu/+APZq3CDECUmAIQpa9eurRPgN7/5jZ/GlX0hAmUi8Mknn6gjsG/fPhUEhiMAgeBwgzwXDgytbHdlFurBD/iaBDGAOO3F9SHLfvzxRx14CFJedNFFOvD169f34NCxyUQgfgR27dqlDsGePXtUGBgOwRlnnBEq+Be/+IUSYFFHIv6a3VOCr0kQA4iL5Ij7w0BCeBIECCHKunXrKgFefPHF7hkNtoQIJACBzz77TIkwLy9PBYJBhBAMxioKcYX4HoU7EglootEqjZLghx9+KIhYx0YsAMZGbH5+vkr9FBQUSHJyskpTpaWl6cEEiAkHE7ihcdlll8XVcWsAUQiEUJEPGAMNAcp69erpQKM+GhEgAqLfTzgIu3fvVqFgOAjIb2wJtFqORDxYJZIPSmu37SSIazlYguLAAdfOcOcWISfwuGrVqqW/A/GBAEGEIERc6dm/f7/gjYQjfNx5xO+wYYvATlxjK69hKWwNICSwEPeHTd5LLrlEB/jXv/51eYvk54mArxH4+9//ro7Cp59+qoeJIK3vvvtO+wxHIpYlsVv4wDgJYmMViceR3yAjI0Nd6Hbt2ql3F6vBa1y1apUuZbdv3655PZBwGgcZ0Zi1FA7/LA4/QIB16tSJpgh+hggEDoG9e/cqEeLQJNzKsyR2Ix8YI8EDBw7IlClT9A0xaNAgTUFpYo8NHiJSCs6ePVuTyYwePVpq1KhRYr/QHpBmUUMwNNQ08FYDWdOIABH4fwTgbGD1BPUkBFMXtbKWxG7lg7LGOObl8NSpU2Xs2LEybNgwGTFihIqOmjZszmZnZ8uMGTNk0qRJMmrUqIhVWneAS2sPYgPxORKi6VFj+W5GwCI+7KEjZrA0K21J7GY+KAv/cpMg7h8OHjxY9/bgBZrw/MpqNDxDeIPYN3ziiScK3fP917/+FRUhY6/Rin+Cq08jAkFEAN8XK54We/llGRyR8O+L2/mgrP7g/8tFgs8//7wueXHSmpWVFU35Rj8zZ84cPcHCUrlfv35aV0lLYfwfic/ocLBwjyMQDSFi3x9bUjAv8EE0QxI1CY4ZM0ZPfQFCkyZNoinbkc9s2bJF9/9AcJMnT1bvLvyNRuJzZBhYic8QKIkQLRkur/BBNMMSFQni0APxQ8hTgHwbbjPkUUA+EITg4O1E4nPbCLE9XkagKCFi1YWQNrfzAeKBcZhalpVJgiBAnPp4QXvs+uuvVz1ALI9pRIAI2I8AtsOgR/jWW2/ZX7jNJUIjFFEkZRFhqSQIlxc3PnDP1iuG+4+4cYKlMY0IEAH7EPArH5RIglhWzpo1S5DV3o1L4JKGFkvjVq1aydChQ0OHJfZNA5ZEBIKJgJ/5ICIJ4tgbd3fhBbrpECTa6YfDEniDuPZDmfxoUePniEBkBPzOBxFJsEWLFpKZmemKMJhYJybCZxYsWCAbN26MtQg+RwSIgIj4nQ+KkSAiv+EB+iEtH9JnwiMs6WYJZzgRIAKlIxAEPihEgjgFhrgApLcTcRPE7gmJmyWQzMel8NLuGttdL8sjAn5AICh8UIgEcfsCslO4DucXw/U6CKvilguNCBCB6BEICh+ESBDyNw0aNNAYICfEEKIfivg+ibuOiB3cuXNn1DJc8dXIp4mA9xEIEh+ESHDkyJFy6tQpmT59uvdHsEgPhg8fLhUqVJBp06b5rm/sEBEwgUCQ+CBEglCF2bBhg6N7gUh7CXJC/l/8tAz/tjMPKvYGW7ZsqaozNCJABMpGIBF8UHar7PlEUT5QEoQE9jPPPCNvv/22PbWUUQoCmh999FH56KOPBPcSzz//fM38Nm7cOCVESHVBqdpOu+6662TAgAExSfXb2Q6WRQTcjoBpPsCBC4goGrvqqqvUQbLTKUK94XygJNi7d29p3ry58bhALLehXQYxVhAfhA5wCv23v/1N4/l++ctfyvHjxzX3CD5npyFucNOmTTJ//nw7i2VZRMB3CJjmAzg77733nt5Gsww5TawVIH4iIRsk/pETqGfPnvLggw/aSoThfKAkCNd369atceUEiWYmIKMVmB2dQvxR+BIYxPfb3/5Wb3lAOfr++++PpsioP4OcJY0bN+aSOGrE+MGgImCaD0BycIiQA7xq1aoKM9LhIvmatTWGnxMnTtQ/MJAg1OTtsnA+SPrggw/UE0RsoEkDySG/Bzy9NWvWSMWKFYtV9/DDD4t1SdvEdT3EDMITjDedp0mcWDYRSCQCcEKc4AP00RJFRjZK1BvuFFkYwGlClkh8BqkA7DSLD5LmzJlzGl6gafkpuLYIwYEUz7PPPhuxL1gCQyD1q6++ikiS8QKAuuENImsdjQgEAQEorUNoONoUEtiLd4IP4Okhqx0ySsLbwxZZJOvfv79yE7bPEL5np1l8kJSVlXW6fv36ehhhytBhhN7g2L1NmzaakziSvfPOO3pCPX78+IhvhXjbh3wku3btYuB0vEDyec8gABKEotKQIUPk3nvvLZMMESBtmg8AHiJDsPyFYX8Qyk9FDZ9BfnAkgLrnnnvksccesxV3iw+SrrnmmtOIo8NpiSnD+r9r166CUyfYI488ogNS1P0FCSIBtClPDaffIGMv6SOaGhOWGxwEkFkRStDwBssiQ+hxmuYDIA99ApwBwMPDKhE31cINnIG43gceeECXwuCGatWq2TpoFh8k1atX7zRUo03fFUYITji5AWysybt3765yV5UqVbK1g5EKw7E81GajPZ433iBWQAQcQKBo8rHSyBA84AQfWPuB7du315xA4Q4RPECE0CGd79133y333XefkdteFh8kpaamnt6zZ4/xq3InTpyQ1q1bS05OTrFhByHitBhkaHc8UHhluEKHeETEKdKIQJAQsLzB8D5HIkMIKJvmA2yP3XnnnbrXZ8UGh7cLoTMpKSnqtWKZbMpBsvggKTk5+fT3338fWp+bnBi4v/vCCy/IokWL5MsvvyxWFeIFIX1lynBCXaVKlRI3YU3Vy3KJQKIRwMlqSbG34WSYlpYmpvkAnt7ll18uO3bs0NAX/BvLX/yEHTp0SO/6d+zYUSCHhxWjCQMfnHnmmZIkgtCc0ybqiFgmOouIcazxcSyOIOnc3Fz9LNzf7Oxso96gSU/TMRBZEREwgACyNWLv0DQffP3116H9PewH4iCmqM2cOVP5AFbSwYkdEIAPjHuCALTo3eDwxiMcBvuC69atE+wP4G0VKYbQjg7TE7QDRZbhRQRK8wRxKIGlJ/444QnigBQxw1h6Hz58OOIqFI4RDkRgOLF+8sknbXeOQp6g6T3BefPmaSzQkiVLSpw7ViwQ4nZwgBIpaNKOicc9QTtQZBleRCDSnmA4+VlxhKb3BOEQgWwff/xx6dGjh6bAiLQ6w5IYJ8cwLItBnHav4kJ7giZPh9FhxAZiH866/hJpAoH8kM0KcUCIBzJlPB02hSzLdTMCRU+HI5Gf1X7Tp8PYDsONLewHol19+vSJCB2WwLhPDMNJMULq7LbQ6bDJOEF0uG3btvLzn/8guOwzAAAE0ElEQVRcli5dGrEP2AxFjOKnn36qkerVq1e3u6+h8hgnaAxaFuxiBCwvsDTys5pvOk4wfD/wn//8p5x33nnFkIPz1KtXL/USK1eurBcoTFyjDcUJmrwxYkWFX3jhhQKlWitC3Oo1SBIJnbp06aIntg899JCxpTDq5I0RF39T2TQjCMDbsvb78LOs63Omb4ysXLlSr8thqQsRg6L7/+AEXJ211J7gBWJ1aPdSOJwPjN4dtjqMO8M4AQLRWcfdYPsJEyaoMgRihpADxNSBiDW7eHfYyPeMhboYATfcHcZ3HdEgu3fv1hUhBBGuuOIKvR4bTm44JIX3B94AZ8yePVvjBE0QIIYsdHfYlIoMOo5O4ggcV9Ww34c/Z511lhIiOoxNWJwIm7orXHRuUkXGxd9WNs0VCJhQkVm8eLFGgEA/FJ5eaX/q1q2rS19csy3La40XsJCKjEk9QUSDW0tcdPyLL77Q2EAc17dr1043SE17fxZQ1BOMd8rw+aAgYEJPEN//cMO/I0WBaNxeEsKXzVohPUEnlaXNdqv00qksnUj0WbeXEDCtLO0GLIopS5vOKeCGTjPHiBtGgW3wAgJB44OEZptzakIw25xTSLMevyAQuGxzGLgg5Rn1y0RlP4iAKQSCxAchTzBIGedNTRyWSwT8gkCQ+CBEghg8BEoiqnzKlCl+GUsZPXq0HD16lJL6vhlRdsQpBILCB4VIEBJXderU0cxzppWmnRhI7AUiFmjv3r1So0YNJ6pkHUTANwgEhQ8KkSBGDwrP0P/HdTavGwQZIdI6atQor3eF7ScCCUEgCHxQjASBdIsWLSQzM1OysrISArwdlSIOCFdwINpKIwJEIHYE/M4HEUlw27ZtepsDHqEJ9YbYhyO6J7ds2aIeIG6nIG8JjQgQgdgR8DsfRCRBwAV9v1mzZgmSnuCOr1cMSZRw6Rq5Vvv16+eVZrOdRMDVCPiZD0okQYzImDFj1Bv0Up5e6KHBC5w8ebKrJxUbRwS8hoBf+aBUEsQgDRo0SBMjIRep2w05hXEKDAkeGhEgAvYj4Ec+KJMELSKEFhgkcdy4NMYSuFu3blKvXj0SoP3zniUSgUIIgAj9xAdRkaC1NEam+Llz57rqsASHIFCihVYZl8D8thIBZxDA0tgvfBA1CVqHJVBjhQq0G8JnEAaDqHZksuchiDOTn7UQAQsBHJb4gQ/KRYLoPI7LBw8eLFCZwPW6RNwswU0QXIc7cuSI5g1hGAy/mEQgMQj4gQ/KTYIW1IgkR84QZIkfMWKEpKamGh8F5AnNzs6WGTNmaG4S3gQxDjkrIAJRIeBlPoiZBIEMTo3hDSKZCzZL4Rqb8Azh+WHJi1Pfvn37qhfIu8BRzU1+iAg4hoBX+SAuErTQhezO008/rYcmGRkZmjEeOURq1qwZ8wAgB8CqVatk2bJlmpMEhx8DBw6U2rVrx1wmHyQCRMA8Al7jA1tIMBxWSHPj1Gj16tW6b9isWTNJT09XD7FWrVr6u5SUFM1BXFBQIMeOHdO9vf379ws8PmSmz8nJ0d8hcTtOfTt16mR+5FgDESACtiPgBT6wnQTDUcTdXdw4yc3Nlby8PE22nJ+fr8QHAgQRghDT0tLUa0S6vYYNG+qND9xdphEBIuAfBNzKB/8HcRmT2QkBzXkAAAAASUVORK5CYII=)"
      ]
    },
    {
      "cell_type": "markdown",
      "metadata": {
        "id": "BiYEDru-DhAl"
      },
      "source": [
        "The code that implements the simulation can be found in [sodium_generate.py](https://github.com/dmachlanski/CE888_2022/blob/main/lab4/data/sodium_generate.py) script. This data generation process can be also described as follows:\n",
        "\n",
        "$$A = \\mathcal{N}(65, 5)$$ \\\\\n",
        "$$\n",
        "S=\n",
        "    \\begin{cases}\n",
        "        1 & \\text{ if } A/18 + \\mathcal{N}(0, 1) > 3.5 \\\\ \n",
        "        0 & \\text{ otherwise } \n",
        "    \\end{cases}\n",
        "$$ \\\\\n",
        "$$B = ATE \\times S + 2 A + \\mathcal{N}(0, 1)$$ \\\\\n",
        "$$ATE = 1.05$$"
      ]
    },
    {
      "cell_type": "markdown",
      "metadata": {
        "id": "sPTqN2HkE2Pz"
      },
      "source": [
        "Note we assume the same effect across the entire population and fix it to an arbitrary scalar.\n",
        "\n",
        "With this setting, we generate 10,000 samples and obtain file [sodium_10k.npz](https://github.com/dmachlanski/CE888_2022/blob/main/lab4/data/sodium_10k.npz).\n",
        "\n",
        "Because we know the true ATE used in the data generation process, we can evaluate our models' performance by measuring how close their predicted ATE ($\\widehat{ATE}$) is to the true one. More formally, we can write ATE as:"
      ]
    },
    {
      "cell_type": "markdown",
      "metadata": {
        "id": "FfxqF2acGCB0"
      },
      "source": [
        "$$ATE = \\mathbb{E}[\\mathcal{Y}_1 - \\mathcal{Y}_0]$$"
      ]
    },
    {
      "cell_type": "markdown",
      "metadata": {
        "id": "xY8zTRZOHFcn"
      },
      "source": [
        "And predicted ATE as:\n",
        "\n",
        "$$\\widehat{ATE} = \\frac{1}{n}\\sum \\limits_{i=1}^{n}(\\hat{y}_1^{(i)} - \\hat{y}_0^{(i)})$$\n",
        "\n",
        "Where $\\hat{y}_t^{(i)}$ denotes predicted potential outcome for treatment $t$ and individual $(i)$. We can thus see that ATE is essentially the average of individual treatment effects, that is:\n",
        "\n",
        "$$\\widehat{ATE} = \\frac{1}{n}\\sum \\limits_{i=1}^{n}\\widehat{ITE}^{(i)}$$"
      ]
    },
    {
      "cell_type": "markdown",
      "metadata": {
        "id": "HnVDCqdmFe_A"
      },
      "source": [
        "One commonly used metric that we will use here measures the absolute difference between the predicted and true ATE, that is:\n",
        "\n",
        "$$\\epsilon_{ATE} = \\left| \\widehat{ATE} - ATE \\right|$$\n",
        "\n",
        "This metric works properly when the same average effect applies to all units in the dataset. In some cases, effects can vary across groups of units. In other words, we can say that the effect is heterogeneous. For those cases, it is useful to also include another metric that captures the errors made per each individual predicted ITE. This metric is PEHE:\n",
        "\n",
        "$$\\epsilon_{PEHE}=\\sqrt{\\frac{1}{n}\\sum_{i=1}^{n}( \\hat{y}_1^{(i)}  - \\hat{y}_0^{(i)} - (\\mathcal{Y}_1^{(i)} - \\mathcal{Y}_0^{(i)}))^2}$$\n",
        "\n",
        "Which can be simplified to:\n",
        "\n",
        "$$\\epsilon_{PEHE}=\\sqrt{\\frac{1}{n}\\sum_{i=1}^{n}( \\widehat{ITE}^{(i)} - ITE^{(i)})^2}$$"
      ]
    },
    {
      "cell_type": "markdown",
      "source": [
        "### Step 2.2 - metrics\n",
        "\n",
        "Here, we are going to implement the two metrics discussed in the previous step 2.1: $\\epsilon_{ATE}$ and $\\epsilon_{PEHE}$.\n",
        "\n",
        "You should have already implemented both metrics as part of the Moodle quiz. Feel free to copy the code from your quiz answers or write the code from scratch."
      ],
      "metadata": {
        "id": "2HFqEdiNJsud"
      }
    },
    {
      "cell_type": "code",
      "source": [
        "def abs_ate(effect_true, effect_pred):\n",
        "    \"\"\"\n",
        "    Absolute error for the Average Treatment Effect (ATE)\n",
        "    :param effect_true: true treatment effect value\n",
        "    :param effect_pred: predicted treatment effect value\n",
        "    :return: absolute error on ATE\n",
        "    \"\"\"\n",
        "    avg_true = np.average(effect_true)\n",
        "    avg_pred = np.average(effect_pred)\n",
        "    ans = np.absolute(avg_pred-avg_true)\n",
        "    return ans\n",
        "\n",
        "def pehe(effect_true, effect_pred):\n",
        "    \"\"\"\n",
        "    Precision in Estimating the Heterogeneous Treatment Effect (PEHE)\n",
        "    :param effect_true: true treatment effect value\n",
        "    :param effect_pred: predicted treatment effect value\n",
        "    :return: PEHE\n",
        "    \"\"\"\n",
        "    # YOUR CODE HERE\n",
        "    difference= effect_pred-effect_true\n",
        "    square = np.power(difference,2)\n",
        "    avg= np.average(square)\n",
        "    ans= np.power(avg,0.5)\n",
        "    return ans\n",
        "\n",
        "    "
      ],
      "metadata": {
        "id": "a6CjsXTwJzGA"
      },
      "execution_count": 4,
      "outputs": []
    },
    {
      "cell_type": "markdown",
      "metadata": {
        "id": "bRS7hD6qaakG"
      },
      "source": [
        "### Step 2.3 - data"
      ]
    },
    {
      "cell_type": "markdown",
      "metadata": {
        "id": "jZ4d-KelM4DK"
      },
      "source": [
        "The sodium dataset is in the form of numpy's '.npz' file. Thus, we cannot use the usual 'read_csv' from pandas. This file must be downloaded first and loaded locally.\n",
        "\n",
        "We can do this by either manually uploading the file to Colab, or via the following command that downloads the file to Colab automatically:"
      ]
    },
    {
      "cell_type": "code",
      "metadata": {
        "id": "IxY0wgfFtj8U",
        "colab": {
          "base_uri": "https://localhost:8080/"
        },
        "outputId": "8742b25a-7576-4e30-bb50-2604298b7bf3"
      },
      "source": [
        "!wget https://github.com/dmachlanski/CE888_2022/raw/main/lab4/data/sodium_10k.npz"
      ],
      "execution_count": 5,
      "outputs": [
        {
          "output_type": "stream",
          "name": "stdout",
          "text": [
            "--2022-02-10 14:02:45--  https://github.com/dmachlanski/CE888_2022/raw/main/lab4/data/sodium_10k.npz\n",
            "Resolving github.com (github.com)... 140.82.114.3\n",
            "Connecting to github.com (github.com)|140.82.114.3|:443... connected.\n",
            "HTTP request sent, awaiting response... 302 Found\n",
            "Location: https://raw.githubusercontent.com/dmachlanski/CE888_2022/main/lab4/data/sodium_10k.npz [following]\n",
            "--2022-02-10 14:02:45--  https://raw.githubusercontent.com/dmachlanski/CE888_2022/main/lab4/data/sodium_10k.npz\n",
            "Resolving raw.githubusercontent.com (raw.githubusercontent.com)... 185.199.108.133, 185.199.110.133, 185.199.111.133, ...\n",
            "Connecting to raw.githubusercontent.com (raw.githubusercontent.com)|185.199.108.133|:443... connected.\n",
            "HTTP request sent, awaiting response... 200 OK\n",
            "Length: 320962 (313K) [application/octet-stream]\n",
            "Saving to: ‘sodium_10k.npz’\n",
            "\n",
            "\rsodium_10k.npz        0%[                    ]       0  --.-KB/s               \rsodium_10k.npz      100%[===================>] 313.44K  --.-KB/s    in 0.004s  \n",
            "\n",
            "2022-02-10 14:02:45 (77.2 MB/s) - ‘sodium_10k.npz’ saved [320962/320962]\n",
            "\n"
          ]
        }
      ]
    },
    {
      "cell_type": "markdown",
      "metadata": {
        "id": "-AvBEAf5Nb0N"
      },
      "source": [
        "You can check in the panel on the left that the file is there.\n",
        "\n",
        "Now, let's load the file with numpy's 'load' function"
      ]
    },
    {
      "cell_type": "code",
      "metadata": {
        "id": "gtaff_ZittAW"
      },
      "source": [
        "data = np.load('sodium_10k.npz')"
      ],
      "execution_count": 6,
      "outputs": []
    },
    {
      "cell_type": "markdown",
      "metadata": {
        "id": "SIhlKjfTNhsA"
      },
      "source": [
        "We can see what variable names are available by examining the 'files' property."
      ]
    },
    {
      "cell_type": "code",
      "metadata": {
        "id": "0Zzkcsd-tx6N",
        "colab": {
          "base_uri": "https://localhost:8080/"
        },
        "outputId": "93b1591e-fd87-497a-af6c-63c056b352ce"
      },
      "source": [
        "data.files"
      ],
      "execution_count": 7,
      "outputs": [
        {
          "output_type": "execute_result",
          "data": {
            "text/plain": [
              "['x', 't', 'y', 'ite']"
            ]
          },
          "metadata": {},
          "execution_count": 7
        }
      ]
    },
    {
      "cell_type": "markdown",
      "metadata": {
        "id": "w-nYh0hOBUyD"
      },
      "source": [
        "Variable names:\n",
        "- X -> A (age; background variable)\n",
        "- T -> S (sodium intake; treatment variable)\n",
        "- Y -> B (blood pressure; outcome variable)\n",
        "- ITE -> individual treatment effect\n"
      ]
    },
    {
      "cell_type": "code",
      "metadata": {
        "id": "jeZ9y3I7tyvd",
        "colab": {
          "base_uri": "https://localhost:8080/"
        },
        "outputId": "3837fea5-b8b9-40c9-ca37-ebb5c90c01f4"
      },
      "source": [
        "for f in data.files:\n",
        "  print(f'{f}: {data[f].shape}')"
      ],
      "execution_count": 8,
      "outputs": [
        {
          "output_type": "stream",
          "name": "stdout",
          "text": [
            "x: (10000,)\n",
            "t: (10000,)\n",
            "y: (10000,)\n",
            "ite: (10000,)\n"
          ]
        }
      ]
    },
    {
      "cell_type": "markdown",
      "metadata": {
        "id": "vaqzoR4zNzdw"
      },
      "source": [
        "As we can see above, we have four single-dimensional vectors, each of which consisting of 10,000 samples. We are going to reshape them to 2D vectors as some methods prefer this representation of data, though we will have to switch back and forth between 1D and 2D representation often as this requirement varies across methdos."
      ]
    },
    {
      "cell_type": "code",
      "metadata": {
        "id": "ei2NOfWJvmfN"
      },
      "source": [
        "X = data['x'].reshape(-1, 1)\n",
        "T = data['t'].reshape(-1, 1)\n",
        "Y = data['y'].reshape(-1, 1)\n",
        "ite = data['ite']"
      ],
      "execution_count": 9,
      "outputs": []
    },
    {
      "cell_type": "markdown",
      "metadata": {
        "id": "jKQLHJkHOm-L"
      },
      "source": [
        "Let's plot the distributions of all three."
      ]
    },
    {
      "cell_type": "code",
      "metadata": {
        "id": "72uhd6sQ-od7",
        "colab": {
          "base_uri": "https://localhost:8080/",
          "height": 266
        },
        "outputId": "1fae7c3d-9065-4f87-d3fd-7a093be6ea9a"
      },
      "source": [
        "bins=20\n",
        "fig, axs = plt.subplots(1, 4, figsize=(16, 4))\n",
        "axs[0].hist(X, bins=bins)\n",
        "axs[1].hist(T, bins=bins)\n",
        "axs[2].hist(Y, bins=bins)\n",
        "axs[3].hist(ite, bins=bins)\n",
        "plt.show()"
      ],
      "execution_count": 10,
      "outputs": [
        {
          "output_type": "display_data",
          "data": {
            "image/png": "[encoded data removed]",
            "text/plain": [
              "<Figure size 1152x288 with 4 Axes>"
            ]
          },
          "metadata": {
            "needs_background": "light"
          }
        }
      ]
    },
    {
      "cell_type": "markdown",
      "metadata": {
        "id": "gAXdN29NOzE8"
      },
      "source": [
        "X and Y clearly follow the shape of the normal distribution, as expected. T is binary, i.e., consists of 0 and 1 values. All ITE values are slightly higher than 1.0, which is correct as we know the ATE is 1.05."
      ]
    },
    {
      "cell_type": "code",
      "source": [
        "np.mean(ite)"
      ],
      "metadata": {
        "id": "Va90trtIdOUc",
        "colab": {
          "base_uri": "https://localhost:8080/",
          "height": 37
        },
        "outputId": "720e3d47-fcc5-44ec-cc2e-6de94c7b468f"
      },
      "execution_count": 11,
      "outputs": [
        {
          "output_type": "execute_result",
          "data": {
            "image/png": "[encoded data removed]",
            "text/latex": "$\\displaystyle 1.05$",
            "text/plain": [
              "1.0500000000000003"
            ]
          },
          "metadata": {},
          "execution_count": 11
        }
      ]
    },
    {
      "cell_type": "markdown",
      "source": [
        "Let's do some scatter plots as well to explore the data. We will limit ourselves to just a fraction of the data for visualisation purposes, but feel free to play around with the 'limit' number."
      ],
      "metadata": {
        "id": "hNWCSk2CfT6C"
      }
    },
    {
      "cell_type": "code",
      "source": [
        "limit = 100\n",
        "plt.scatter(X[T == 1][:limit], Y[T == 1][:limit], c = \"r\", label = \"Treated\")\n",
        "plt.scatter(X[T == 0][:limit], Y[T == 0][:limit], c = \"g\", label = \"Control\")\n",
        "plt.legend(ncol=2)"
      ],
      "metadata": {
        "id": "caYQejATdWAT",
        "colab": {
          "base_uri": "https://localhost:8080/",
          "height": 282
        },
        "outputId": "e88f1c2a-1de9-4f89-80a9-7127b6c2130a"
      },
      "execution_count": 12,
      "outputs": [
        {
          "output_type": "execute_result",
          "data": {
            "text/plain": [
              "<matplotlib.legend.Legend at 0x7fe3e58b5e90>"
            ]
          },
          "metadata": {},
          "execution_count": 12
        },
        {
          "output_type": "display_data",
          "data": {
            "image/png": "[encoded data removed]",
            "text/plain": [
              "<Figure size 432x288 with 1 Axes>"
            ]
          },
          "metadata": {
            "needs_background": "light"
          }
        }
      ]
    },
    {
      "cell_type": "markdown",
      "source": [
        "The effect is difficult to notice as it is quite small (1.05), nevertheless, in some regions the treated units (red) are a bit higher than the control ones (gree), which demonstrates the effect (treated units have higher outcomes)."
      ],
      "metadata": {
        "id": "bW430vkNfydu"
      }
    },
    {
      "cell_type": "markdown",
      "metadata": {
        "id": "yzWpGENcPiYO"
      },
      "source": [
        "### Step 2.4 - data pre-processing\n",
        "\n",
        "Split the data into training and testing for evaluation purposes with 80/20 ratio."
      ]
    },
    {
      "cell_type": "code",
      "metadata": {
        "id": "SPbMWtKAuIRe"
      },
      "source": [
        "x_train, x_test, t_train, t_test, y_train, y_test, ite_train, ite_test = train_test_split(X, T, Y, ite, test_size=0.2)\n",
        "\n",
        "scaler_x = StandardScaler()\n",
        "x_train = scaler_x.fit_transform(x_train)\n",
        "x_test = scaler_x.transform(x_test)"
      ],
      "execution_count": 13,
      "outputs": []
    },
    {
      "cell_type": "code",
      "source": [
        "x_train"
      ],
      "metadata": {
        "colab": {
          "base_uri": "https://localhost:8080/"
        },
        "id": "QpIyuMZw_ZqM",
        "outputId": "79ac4aea-3ec9-48c8-fba4-ea1cf02e9220"
      },
      "execution_count": 15,
      "outputs": [
        {
          "output_type": "execute_result",
          "data": {
            "text/plain": [
              "array([[ 0.02000969],\n",
              "       [-1.79305042],\n",
              "       [-0.72911838],\n",
              "       ...,\n",
              "       [ 0.83361654],\n",
              "       [-0.27145184],\n",
              "       [-1.3008137 ]])"
            ]
          },
          "metadata": {},
          "execution_count": 15
        }
      ]
    },
    {
      "cell_type": "markdown",
      "metadata": {
        "id": "eqwQ6RAGPrfQ"
      },
      "source": [
        "### Step 2.5 - training"
      ]
    },
    {
      "cell_type": "markdown",
      "metadata": {
        "id": "ZKXEFTm8V5LB"
      },
      "source": [
        "We are going to use three estimators here:\n",
        "- Random forest (RF; regressor).\n",
        "- Random forest with Inverse Propensity Weighting (IPW).\n",
        "- X-learner with RF as base learners."
      ]
    },
    {
      "cell_type": "markdown",
      "metadata": {
        "id": "ickoIjajWi3V"
      },
      "source": [
        "#### Random Forest"
      ]
    },
    {
      "cell_type": "markdown",
      "metadata": {
        "id": "WvFG0eBpv5t_"
      },
      "source": [
        "##### Description"
      ]
    },
    {
      "cell_type": "markdown",
      "metadata": {
        "id": "0nxFxw8Yv8Fj"
      },
      "source": [
        "With random forests we simply model $P(Y|X, T)$, that is, we regress Y on X and T. Once trained, the model predicts potential outcomes $\\hat{y}_t^{(i)}$. Thus, to obtain ITE predictions for each individual, we need to predict both $\\hat{y}_0$ and $\\hat{y}_1$, that is, predict the outcomes for both control and treated settings for each individual.\n",
        "\n",
        "By calculating the difference between the treated and control outcome, we can obtain the effect per given individual. In other words:\n",
        "\n",
        "$$\\widehat{ITE}^{(i)} = \\hat{y}_1^{(i)} - \\hat{y}_0^{(i)}$$"
      ]
    },
    {
      "cell_type": "markdown",
      "metadata": {
        "id": "w6Aj1em1v_Sa"
      },
      "source": [
        "##### Usage"
      ]
    },
    {
      "cell_type": "code",
      "metadata": {
        "id": "r-u0hCF1vhQ2"
      },
      "source": [
        "# Random Forest with default parameters.\n",
        "rf = RandomForestRegressor()\n",
        "\n",
        "# Train on the training data.\n",
        "# In the supervised setting, our usual X here consists of X and T.\n",
        "# The target is Y - the outcome.\n",
        "# Input: [X, T], output: Y.\n",
        "# Hint: use np.concatenate or np.hstack functions to merge X and T.\n",
        "\n",
        "xt_train = np.concatenate([x_train,t_train], axis=1) # YOUR CODE HERE\n",
        "rf.fit(xt_train, y_train.flatten())\n",
        "\n",
        "# Predictions\n",
        "# Note we set T to a specific value for ALL individuals.\n",
        "# These are interventional distributions - P(Y|X, do(T=t)).\n",
        "\n",
        "# Predict Y_0 given [X, 0]\n",
        "# Hint: use np.zeros_like or np.zeros functions to get the zeros for all units.\n",
        "# Hint 2: you still have to merge X and zeros (see training above).\n",
        "xt0_test = np.concatenate([x_test, np.zeros_like(x_test)], axis=1)# YOUR CODE HERE\n",
        "rf_y0_test = rf.predict(xt0_test)\n",
        "\n",
        "# Predict Y_1 given [X, 1]\n",
        "# Hint: use np.ones_like or np.ones functions to get the ones for all units.\n",
        "# Hint 2: you still have to merge X and ones (see training above).\n",
        "xt1_test = np.concatenate([x_test, np.ones_like(x_test)], axis=1)# YOUR CODE HERE\n",
        "rf_y1_test = rf.predict(xt1_test)\n",
        "\n",
        "# Compute ITEs\n",
        "# ITE = Y_1 - Y_0\n",
        "rf_te_test = rf_y1_test-rf_y0_test# YOUR CODE HERE"
      ],
      "execution_count": 25,
      "outputs": []
    },
    {
      "cell_type": "markdown",
      "metadata": {
        "id": "towjDjnOIAC1"
      },
      "source": [
        "#### Random Forest with IPW"
      ]
    },
    {
      "cell_type": "markdown",
      "metadata": {
        "id": "CZlg6jhhwFF2"
      },
      "source": [
        "##### Description"
      ]
    },
    {
      "cell_type": "markdown",
      "metadata": {
        "id": "NGBRoR2swHi6"
      },
      "source": [
        "This is a similar approach to the previous one, but extends it further with the Inverse Propensity Weighting (IPW). We proceed as follows:\n",
        "\n",
        "1. Use random forest classifier to model unit's probability of receiving the treatment, that is, $P(t_i|x_i)$. Input: X, target: T. Note this is a classic binary classification problem. $P(t_i|x_i)$ is called a **propensity score**.\n",
        "2. Use trained classifier to predict propensity scores for each individual. Compute weights per each sample as:\n",
        "\n",
        "$$w_i = \\frac{t_i}{P(t_i|x_i)} + \\frac{1-t_i}{1-P(t_i|x_i)}$$\n",
        "\n",
        "Intuition: Dominant group gets smaller weights. In practice, gives more importance to treated samples.\n",
        "\n",
        "3. Use sample weights in random forest regressor training.\n",
        "4. Proceed with predictions as in the previous section.\n",
        "\n",
        "We can compute the sample weights with the following function:"
      ]
    },
    {
      "cell_type": "code",
      "metadata": {
        "id": "wMTSqYIewYX5"
      },
      "source": [
        "def get_ps_weights(clf, x, t):\n",
        "  ti = np.squeeze(t)\n",
        "  clf.fit(x, ti)\n",
        "  ptx = clf.predict_proba(x).T[1].T + 0.0001 # add a small value to avoid dividing by 0\n",
        "  # Given ti and ptx values, compute the weights wi (see formula above):\n",
        "  wi = (ti/ptx)+((1-ti)/(1-ptx))# YOUR CODE HERE\n",
        "  return wi"
      ],
      "execution_count": 26,
      "outputs": []
    },
    {
      "cell_type": "markdown",
      "metadata": {
        "id": "zTai68e3wHgb"
      },
      "source": [
        "##### Usage"
      ]
    },
    {
      "cell_type": "code",
      "metadata": {
        "id": "tfguw3FCwmYz"
      },
      "source": [
        "# Get the sample weights\n",
        "prop_clf = RandomForestClassifier()\n",
        "weights = get_ps_weights(prop_clf, x_train, t_train)\n",
        "\n",
        "# Train the regressor\n",
        "rf_ipsw = RandomForestRegressor()\n",
        "\n",
        "rf_ipsw.fit(xt_train, y_train.flatten(), sample_weight= weights)\n",
        "\n",
        "# Make predictions\n",
        "rf_ipsw_y0_test = rf_ipsw.predict(xt0_test) # YOUR CODE HERE\n",
        "rf_ipsw_y1_test = rf_ipsw.predict(xt1_test)# YOUR CODE HERE\n",
        "\n",
        "# Compute ITEs\n",
        "rf_ipsw_te_test = rf_ipsw_y1_test - rf_ipsw_y0_test# YOUR CODE HERE"
      ],
      "execution_count": 28,
      "outputs": []
    },
    {
      "cell_type": "markdown",
      "metadata": {
        "id": "7Op8qjQsgn-f"
      },
      "source": [
        "#### X-learner"
      ]
    },
    {
      "cell_type": "markdown",
      "metadata": {
        "id": "EgX0f71-voK2"
      },
      "source": [
        "##### Formal description"
      ]
    },
    {
      "cell_type": "markdown",
      "metadata": {
        "id": "j4IDYW7oiShp"
      },
      "source": [
        "A meta-learner implemented via EconML. Uses provided regressors and classifiers to solve smaller sub-problems. Models the effect directly instead of the outcomes, predicting ITEs as a consequence.\n",
        "\n",
        "Originally introduced in [(Künzel et al. 2019)](http://arxiv.org/abs/1706.03461). The modelling process of the X-learner can be divided into three stages.\n",
        "\n",
        "**Stage 1**\n",
        "\n",
        "Use provided regressors to model $\\mathcal{Y}_0$ and $\\mathcal{Y}_1$ separately. More formally, the response functions are:\n",
        "\n",
        "$$\\mu_0(x) = \\mathbb{E}[\\mathcal{Y}_0|X=x]$$\n",
        "$$\\mu_1(x) = \\mathbb{E}[\\mathcal{Y}_1|X=x]$$\n",
        "\n",
        "We denote estimated functions as $\\hat{\\mu}_0$ and $\\hat{\\mu}_1$.\n",
        "\n",
        "**Stage 2**\n",
        "\n",
        "Define imputed treatment effects as:\n",
        "\n",
        "$$\\mathcal{D}_0^{(i)} = \\hat{\\mu}_1(X_0^{(i)}) - \\mathcal{Y}_0^{(i)}$$\n",
        "$$\\mathcal{D}_1^{(i)} = \\mathcal{Y}_1^{(i)} - \\hat{\\mu}_0(X_1^{(i)})$$\n",
        "\n",
        "Use provided regressors to model $\\mathcal{D}_0$ and $\\mathcal{D}_1$ separately. The response functions are formally defined as:\n",
        "\n",
        "$$\\tau_0(x) = \\mathbb{E}[\\mathcal{D}_0|X=x]$$\n",
        "$$\\tau_1(x) = \\mathbb{E}[\\mathcal{D}_1|X=x]$$\n",
        "\n",
        "We denote estimated functions as $\\hat{\\tau}_0$ and $\\hat{\\tau}_1$.\n",
        "\n",
        "**Stage 3**\n",
        "\n",
        "The final treatment effect estimate is a weighted average of the two estimates from Stage 2:\n",
        "\n",
        "$$\\hat{\\tau}(x) = g(x)\\hat{\\tau}_0(x) + (1 - g(x))\\hat{\\tau}_1(x)$$\n",
        "\n",
        "Where $g \\in [0, 1]$ is a weight function. In practice, $g$ can be modelled as a propensity score function $e$, formally written as:\n",
        "\n",
        "$$e(x) = \\mathbb{E}[T|X=x]$$\n",
        "\n",
        "Using a provided classifier, we can obtain an estimate $\\hat{e}$ that can be used in place of $g$. That is:\n",
        "\n",
        "$$\\hat{\\tau}(x) = \\hat{e}(x)\\hat{\\tau}_0(x) + (1 - \\hat{e}(x))\\hat{\\tau}_1(x)$$\n",
        "\n",
        "In summary, we perform the following steps:\n",
        "1. Training (inputs: X, T, Y; outputs: $\\hat{\\tau}_0$, $\\hat{\\tau}_1$, $\\hat{e}$):\n",
        "  1. Model the outcomes with a provided regressor class and obtain estimators $\\hat{\\mu}_0$ and $\\hat{\\mu}_1$.\n",
        "  2. Make predictions $\\hat{\\mu}_1(X_0^{(i)})$ and $\\hat{\\mu}_0(X_1^{(i)})$.\n",
        "  3. Compute imputed treatment effects $\\mathcal{D}_0$ and $\\mathcal{D}_1$.\n",
        "  4. Model the imputed treatment effects with a provided regressor class and obtain estimators $\\hat{\\tau}_0$ and $\\hat{\\tau}_1$.\n",
        "  5. Model the propensity scores with a provided classifier class and obtain an estimator $\\hat{e}$.\n",
        "2. Prediction (inputs: X; outputs: $\\widehat{ITE}$):\n",
        "  1. Use estimator $\\hat{\\tau}$ to obtain individual treatment effect estimates."
      ]
    },
    {
      "cell_type": "markdown",
      "metadata": {
        "id": "MLWZ7k7KiWkc"
      },
      "source": [
        "##### Usage"
      ]
    },
    {
      "cell_type": "markdown",
      "metadata": {
        "id": "60Kh3Cv3wuUa"
      },
      "source": [
        "We continue with random forests here by providing the X-learner with RF regressor and RF classifier as base learners. Note it distinguishes X from T in its input - it is necessary to learn the propensity score estimator. Also, the final prediction does not depend on T! Though it does indirectly by predicting the propensity score internally."
      ]
    },
    {
      "cell_type": "code",
      "metadata": {
        "id": "4IWeKlOOvQfy",
        "colab": {
          "base_uri": "https://localhost:8080/"
        },
        "outputId": "b167ab3f-d2df-4e0b-ab9b-ad4f2cd0870e"
      },
      "source": [
        "# X-Learner\n",
        "xl = XLearner(models=RandomForestRegressor(), propensity_model=RandomForestClassifier())\n",
        "xl.fit(y_train, t_train.flatten(), X=x_train)\n",
        "\n",
        "xl_te_test = xl.effect(x_test)"
      ],
      "execution_count": 29,
      "outputs": [
        {
          "output_type": "stream",
          "name": "stderr",
          "text": [
            "Function get_feature_names is deprecated; get_feature_names is deprecated in 1.0 and will be removed in 1.2. Please use get_feature_names_out instead.\n"
          ]
        }
      ]
    },
    {
      "cell_type": "markdown",
      "source": [
        "Just 3 lines of code for such a complex estimator!"
      ],
      "metadata": {
        "id": "MbrLOddIBdE1"
      }
    },
    {
      "cell_type": "markdown",
      "metadata": {
        "id": "h_DyjDFLPyyO"
      },
      "source": [
        "### Step 2.6 - evaluation"
      ]
    },
    {
      "cell_type": "markdown",
      "metadata": {
        "id": "CacdEXLFiH9g"
      },
      "source": [
        "We will examine our estimators' performance from different perspectives:\n",
        "- Metrics: $ϵ_{ATE}$ and $ϵ_{PEHE}$\n",
        "- Confidence intervals of predicted ATEs\n",
        "- Visualisations of predicted effects"
      ]
    },
    {
      "cell_type": "markdown",
      "metadata": {
        "id": "vQhziISdjRtz"
      },
      "source": [
        "#### Metrics"
      ]
    },
    {
      "cell_type": "code",
      "metadata": {
        "id": "wt1ARZ-AwyqN"
      },
      "source": [
        "# Error on ATE\n",
        "# Use our 'abs_ate' function, true ITEs and predicted ITEs to get the measurements.\n",
        "rf_ate_test = abs_ate(ite_test, rf_te_test) # YOUR CODE HERE\n",
        "rf_ipsw_ate_test = abs_ate(ite_test, rf_ipsw_te_test)# YOUR CODE HERE\n",
        "xl_ate_test = abs_ate(ite_test, xl_te_test)# YOUR CODE HERE\n",
        "\n",
        "# PEHE\n",
        "# Use our 'pehe' function, true ITEs and predicted ITEs to get the measurements.\n",
        "rf_pehe_test = pehe(ite_test, rf_te_test)# YOUR CODE HERE\n",
        "rf_ipsw_pehe_test = pehe(ite_test, rf_ipsw_te_test) # YOUR CODE HERE\n",
        "xl_pehe_test = pehe(ite_test, xl_te_test)# YOUR CODE HERE"
      ],
      "execution_count": 30,
      "outputs": []
    },
    {
      "cell_type": "code",
      "metadata": {
        "id": "ejaGko09xiQs",
        "colab": {
          "base_uri": "https://localhost:8080/",
          "height": 143
        },
        "outputId": "dc70d8a4-1aec-4265-efb0-d9019a014b57"
      },
      "source": [
        "results = []\n",
        "results.append(['RF', rf_ate_test, rf_pehe_test])\n",
        "results.append(['RF (IPW)', rf_ipsw_ate_test, rf_ipsw_pehe_test])\n",
        "results.append(['XL', xl_ate_test, xl_pehe_test])\n",
        "\n",
        "cols = ['Method', 'ATE test', 'PEHE test']\n",
        "\n",
        "df = pd.DataFrame(results, columns=cols)\n",
        "df"
      ],
      "execution_count": 31,
      "outputs": [
        {
          "output_type": "execute_result",
          "data": {
            "text/html": [
              "\n",
              "  <div id=\"df-08a18055-2cf1-4537-8961-8eacd84b4216\">\n",
              "    <div class=\"colab-df-container\">\n",
              "      <div>\n",
              "<style scoped>\n",
              "    .dataframe tbody tr th:only-of-type {\n",
              "        vertical-align: middle;\n",
              "    }\n",
              "\n",
              "    .dataframe tbody tr th {\n",
              "        vertical-align: top;\n",
              "    }\n",
              "\n",
              "    .dataframe thead th {\n",
              "        text-align: right;\n",
              "    }\n",
              "</style>\n",
              "<table border=\"1\" class=\"dataframe\">\n",
              "  <thead>\n",
              "    <tr style=\"text-align: right;\">\n",
              "      <th></th>\n",
              "      <th>Method</th>\n",
              "      <th>ATE test</th>\n",
              "      <th>PEHE test</th>\n",
              "    </tr>\n",
              "  </thead>\n",
              "  <tbody>\n",
              "    <tr>\n",
              "      <th>0</th>\n",
              "      <td>RF</td>\n",
              "      <td>0.024291</td>\n",
              "      <td>0.943936</td>\n",
              "    </tr>\n",
              "    <tr>\n",
              "      <th>1</th>\n",
              "      <td>RF (IPW)</td>\n",
              "      <td>0.018057</td>\n",
              "      <td>0.946678</td>\n",
              "    </tr>\n",
              "    <tr>\n",
              "      <th>2</th>\n",
              "      <td>XL</td>\n",
              "      <td>0.003214</td>\n",
              "      <td>0.862996</td>\n",
              "    </tr>\n",
              "  </tbody>\n",
              "</table>\n",
              "</div>\n",
              "      <button class=\"colab-df-convert\" onclick=\"convertToInteractive('df-08a18055-2cf1-4537-8961-8eacd84b4216')\"\n",
              "              title=\"Convert this dataframe to an interactive table.\"\n",
              "              style=\"display:none;\">\n",
              "        \n",
              "  <svg xmlns=\"http://www.w3.org/2000/svg\" height=\"24px\"viewBox=\"0 0 24 24\"\n",
              "       width=\"24px\">\n",
              "    <path d=\"M0 0h24v24H0V0z\" fill=\"none\"/>\n",
              "    <path d=\"M18.56 5.44l.94 2.06.94-2.06 2.06-.94-2.06-.94-.94-2.06-.94 2.06-2.06.94zm-11 1L8.5 8.5l.94-2.06 2.06-.94-2.06-.94L8.5 2.5l-.94 2.06-2.06.94zm10 10l.94 2.06.94-2.06 2.06-.94-2.06-.94-.94-2.06-.94 2.06-2.06.94z\"/><path d=\"M17.41 7.96l-1.37-1.37c-.4-.4-.92-.59-1.43-.59-.52 0-1.04.2-1.43.59L10.3 9.45l-7.72 7.72c-.78.78-.78 2.05 0 2.83L4 21.41c.39.39.9.59 1.41.59.51 0 1.02-.2 1.41-.59l7.78-7.78 2.81-2.81c.8-.78.8-2.07 0-2.86zM5.41 20L4 18.59l7.72-7.72 1.47 1.35L5.41 20z\"/>\n",
              "  </svg>\n",
              "      </button>\n",
              "      \n",
              "  <style>\n",
              "    .colab-df-container {\n",
              "      display:flex;\n",
              "      flex-wrap:wrap;\n",
              "      gap: 12px;\n",
              "    }\n",
              "\n",
              "    .colab-df-convert {\n",
              "      background-color: #E8F0FE;\n",
              "      border: none;\n",
              "      border-radius: 50%;\n",
              "      cursor: pointer;\n",
              "      display: none;\n",
              "      fill: #1967D2;\n",
              "      height: 32px;\n",
              "      padding: 0 0 0 0;\n",
              "      width: 32px;\n",
              "    }\n",
              "\n",
              "    .colab-df-convert:hover {\n",
              "      background-color: #E2EBFA;\n",
              "      box-shadow: 0px 1px 2px rgba(60, 64, 67, 0.3), 0px 1px 3px 1px rgba(60, 64, 67, 0.15);\n",
              "      fill: #174EA6;\n",
              "    }\n",
              "\n",
              "    [theme=dark] .colab-df-convert {\n",
              "      background-color: #3B4455;\n",
              "      fill: #D2E3FC;\n",
              "    }\n",
              "\n",
              "    [theme=dark] .colab-df-convert:hover {\n",
              "      background-color: #434B5C;\n",
              "      box-shadow: 0px 1px 3px 1px rgba(0, 0, 0, 0.15);\n",
              "      filter: drop-shadow(0px 1px 2px rgba(0, 0, 0, 0.3));\n",
              "      fill: #FFFFFF;\n",
              "    }\n",
              "  </style>\n",
              "\n",
              "      <script>\n",
              "        const buttonEl =\n",
              "          document.querySelector('#df-08a18055-2cf1-4537-8961-8eacd84b4216 button.colab-df-convert');\n",
              "        buttonEl.style.display =\n",
              "          google.colab.kernel.accessAllowed ? 'block' : 'none';\n",
              "\n",
              "        async function convertToInteractive(key) {\n",
              "          const element = document.querySelector('#df-08a18055-2cf1-4537-8961-8eacd84b4216');\n",
              "          const dataTable =\n",
              "            await google.colab.kernel.invokeFunction('convertToInteractive',\n",
              "                                                     [key], {});\n",
              "          if (!dataTable) return;\n",
              "\n",
              "          const docLinkHtml = 'Like what you see? Visit the ' +\n",
              "            '<a target=\"_blank\" href=https://colab.research.google.com/notebooks/data_table.ipynb>data table notebook</a>'\n",
              "            + ' to learn more about interactive tables.';\n",
              "          element.innerHTML = '';\n",
              "          dataTable['output_type'] = 'display_data';\n",
              "          await google.colab.output.renderOutput(dataTable, element);\n",
              "          const docLink = document.createElement('div');\n",
              "          docLink.innerHTML = docLinkHtml;\n",
              "          element.appendChild(docLink);\n",
              "        }\n",
              "      </script>\n",
              "    </div>\n",
              "  </div>\n",
              "  "
            ],
            "text/plain": [
              "     Method  ATE test  PEHE test\n",
              "0        RF  0.024291   0.943936\n",
              "1  RF (IPW)  0.018057   0.946678\n",
              "2        XL  0.003214   0.862996"
            ]
          },
          "metadata": {},
          "execution_count": 31
        }
      ]
    },
    {
      "cell_type": "markdown",
      "metadata": {
        "id": "1s1ToJZljU7M"
      },
      "source": [
        "#### Confidence intervals"
      ]
    },
    {
      "cell_type": "code",
      "metadata": {
        "id": "3LwtO9NLxiOc"
      },
      "source": [
        "def mean_ci(data, ci=0.95):\n",
        "  l_mean = np.mean(data)\n",
        "  lower, upper = st.t.interval(ci, len(data)-1, loc=l_mean, scale=st.sem(data))\n",
        "  return l_mean, lower, upper"
      ],
      "execution_count": 32,
      "outputs": []
    },
    {
      "cell_type": "code",
      "metadata": {
        "id": "8iMAuhzCyfNk",
        "colab": {
          "base_uri": "https://localhost:8080/",
          "height": 143
        },
        "outputId": "36ac96d8-5a83-4f42-d85c-1e4db56c7af5"
      },
      "source": [
        "rf_ate_bounds = mean_ci(rf_te_test)\n",
        "rf_ipsw_ate_bounds = mean_ci(rf_ipsw_te_test)\n",
        "xl_ate_bounds = mean_ci(xl_te_test)\n",
        "\n",
        "results = []\n",
        "results.append(['RF', rf_ate_bounds[0], rf_ate_bounds[1], rf_ate_bounds[2]])\n",
        "results.append(['RF (IPW)', rf_ipsw_ate_bounds[0], rf_ipsw_ate_bounds[1], rf_ipsw_ate_bounds[2]])\n",
        "results.append(['XL', xl_ate_bounds[0], xl_ate_bounds[1], xl_ate_bounds[2]])\n",
        "\n",
        "cols = ['Method', 'ATE mean', 'CI lower', 'CI upper']\n",
        "\n",
        "df = pd.DataFrame(results, columns=cols)\n",
        "df"
      ],
      "execution_count": 33,
      "outputs": [
        {
          "output_type": "execute_result",
          "data": {
            "text/html": [
              "\n",
              "  <div id=\"df-281ab9de-a8ce-4838-b819-d53f2f072885\">\n",
              "    <div class=\"colab-df-container\">\n",
              "      <div>\n",
              "<style scoped>\n",
              "    .dataframe tbody tr th:only-of-type {\n",
              "        vertical-align: middle;\n",
              "    }\n",
              "\n",
              "    .dataframe tbody tr th {\n",
              "        vertical-align: top;\n",
              "    }\n",
              "\n",
              "    .dataframe thead th {\n",
              "        text-align: right;\n",
              "    }\n",
              "</style>\n",
              "<table border=\"1\" class=\"dataframe\">\n",
              "  <thead>\n",
              "    <tr style=\"text-align: right;\">\n",
              "      <th></th>\n",
              "      <th>Method</th>\n",
              "      <th>ATE mean</th>\n",
              "      <th>CI lower</th>\n",
              "      <th>CI upper</th>\n",
              "    </tr>\n",
              "  </thead>\n",
              "  <tbody>\n",
              "    <tr>\n",
              "      <th>0</th>\n",
              "      <td>RF</td>\n",
              "      <td>1.025709</td>\n",
              "      <td>0.984318</td>\n",
              "      <td>1.067099</td>\n",
              "    </tr>\n",
              "    <tr>\n",
              "      <th>1</th>\n",
              "      <td>RF (IPW)</td>\n",
              "      <td>1.031943</td>\n",
              "      <td>0.990426</td>\n",
              "      <td>1.073461</td>\n",
              "    </tr>\n",
              "    <tr>\n",
              "      <th>2</th>\n",
              "      <td>XL</td>\n",
              "      <td>1.053214</td>\n",
              "      <td>[1.0153605614816716]</td>\n",
              "      <td>[1.0910683519218063]</td>\n",
              "    </tr>\n",
              "  </tbody>\n",
              "</table>\n",
              "</div>\n",
              "      <button class=\"colab-df-convert\" onclick=\"convertToInteractive('df-281ab9de-a8ce-4838-b819-d53f2f072885')\"\n",
              "              title=\"Convert this dataframe to an interactive table.\"\n",
              "              style=\"display:none;\">\n",
              "        \n",
              "  <svg xmlns=\"http://www.w3.org/2000/svg\" height=\"24px\"viewBox=\"0 0 24 24\"\n",
              "       width=\"24px\">\n",
              "    <path d=\"M0 0h24v24H0V0z\" fill=\"none\"/>\n",
              "    <path d=\"M18.56 5.44l.94 2.06.94-2.06 2.06-.94-2.06-.94-.94-2.06-.94 2.06-2.06.94zm-11 1L8.5 8.5l.94-2.06 2.06-.94-2.06-.94L8.5 2.5l-.94 2.06-2.06.94zm10 10l.94 2.06.94-2.06 2.06-.94-2.06-.94-.94-2.06-.94 2.06-2.06.94z\"/><path d=\"M17.41 7.96l-1.37-1.37c-.4-.4-.92-.59-1.43-.59-.52 0-1.04.2-1.43.59L10.3 9.45l-7.72 7.72c-.78.78-.78 2.05 0 2.83L4 21.41c.39.39.9.59 1.41.59.51 0 1.02-.2 1.41-.59l7.78-7.78 2.81-2.81c.8-.78.8-2.07 0-2.86zM5.41 20L4 18.59l7.72-7.72 1.47 1.35L5.41 20z\"/>\n",
              "  </svg>\n",
              "      </button>\n",
              "      \n",
              "  <style>\n",
              "    .colab-df-container {\n",
              "      display:flex;\n",
              "      flex-wrap:wrap;\n",
              "      gap: 12px;\n",
              "    }\n",
              "\n",
              "    .colab-df-convert {\n",
              "      background-color: #E8F0FE;\n",
              "      border: none;\n",
              "      border-radius: 50%;\n",
              "      cursor: pointer;\n",
              "      display: none;\n",
              "      fill: #1967D2;\n",
              "      height: 32px;\n",
              "      padding: 0 0 0 0;\n",
              "      width: 32px;\n",
              "    }\n",
              "\n",
              "    .colab-df-convert:hover {\n",
              "      background-color: #E2EBFA;\n",
              "      box-shadow: 0px 1px 2px rgba(60, 64, 67, 0.3), 0px 1px 3px 1px rgba(60, 64, 67, 0.15);\n",
              "      fill: #174EA6;\n",
              "    }\n",
              "\n",
              "    [theme=dark] .colab-df-convert {\n",
              "      background-color: #3B4455;\n",
              "      fill: #D2E3FC;\n",
              "    }\n",
              "\n",
              "    [theme=dark] .colab-df-convert:hover {\n",
              "      background-color: #434B5C;\n",
              "      box-shadow: 0px 1px 3px 1px rgba(0, 0, 0, 0.15);\n",
              "      filter: drop-shadow(0px 1px 2px rgba(0, 0, 0, 0.3));\n",
              "      fill: #FFFFFF;\n",
              "    }\n",
              "  </style>\n",
              "\n",
              "      <script>\n",
              "        const buttonEl =\n",
              "          document.querySelector('#df-281ab9de-a8ce-4838-b819-d53f2f072885 button.colab-df-convert');\n",
              "        buttonEl.style.display =\n",
              "          google.colab.kernel.accessAllowed ? 'block' : 'none';\n",
              "\n",
              "        async function convertToInteractive(key) {\n",
              "          const element = document.querySelector('#df-281ab9de-a8ce-4838-b819-d53f2f072885');\n",
              "          const dataTable =\n",
              "            await google.colab.kernel.invokeFunction('convertToInteractive',\n",
              "                                                     [key], {});\n",
              "          if (!dataTable) return;\n",
              "\n",
              "          const docLinkHtml = 'Like what you see? Visit the ' +\n",
              "            '<a target=\"_blank\" href=https://colab.research.google.com/notebooks/data_table.ipynb>data table notebook</a>'\n",
              "            + ' to learn more about interactive tables.';\n",
              "          element.innerHTML = '';\n",
              "          dataTable['output_type'] = 'display_data';\n",
              "          await google.colab.output.renderOutput(dataTable, element);\n",
              "          const docLink = document.createElement('div');\n",
              "          docLink.innerHTML = docLinkHtml;\n",
              "          element.appendChild(docLink);\n",
              "        }\n",
              "      </script>\n",
              "    </div>\n",
              "  </div>\n",
              "  "
            ],
            "text/plain": [
              "     Method  ATE mean              CI lower              CI upper\n",
              "0        RF  1.025709              0.984318              1.067099\n",
              "1  RF (IPW)  1.031943              0.990426              1.073461\n",
              "2        XL  1.053214  [1.0153605614816716]  [1.0910683519218063]"
            ]
          },
          "metadata": {},
          "execution_count": 33
        }
      ]
    },
    {
      "cell_type": "markdown",
      "metadata": {
        "id": "FamneAp_jnY4"
      },
      "source": [
        "#### Visualisations"
      ]
    },
    {
      "cell_type": "code",
      "metadata": {
        "id": "O01KtZ1dzNWH",
        "colab": {
          "base_uri": "https://localhost:8080/",
          "height": 265
        },
        "outputId": "3fc5ae5d-77ce-4c8e-a34a-78603a283c6f"
      },
      "source": [
        "plt.figure()\n",
        "plt.boxplot([rf_te_test, rf_ipsw_te_test, xl_te_test.flatten()], labels=['RF', 'RF (IPW)', 'X-learner'])\n",
        "plt.ylabel('Treatment Effect')\n",
        "\n",
        "plt.show()"
      ],
      "execution_count": 34,
      "outputs": [
        {
          "output_type": "display_data",
          "data": {
            "image/png": "[encoded data removed]",
            "text/plain": [
              "<Figure size 432x288 with 1 Axes>"
            ]
          },
          "metadata": {
            "needs_background": "light"
          }
        }
      ]
    },
    {
      "cell_type": "code",
      "metadata": {
        "id": "FjD5k5Q2zNUI",
        "colab": {
          "base_uri": "https://localhost:8080/",
          "height": 606
        },
        "outputId": "77ace066-9b29-47bd-f837-fa2795714e27"
      },
      "source": [
        "plt.figure(figsize=(12, 10))\n",
        "m_size = 10\n",
        "plt.scatter(x_test, rf_te_test, label=\"RF\", s=m_size)\n",
        "plt.scatter(x_test, rf_ipsw_te_test, label=\"RF (IPW)\", s=m_size)\n",
        "plt.scatter(x_test, xl_te_test, label=\"X-learner\", s=m_size)\n",
        "plt.xlabel('X')\n",
        "plt.ylabel('Treatment Effect')\n",
        "plt.legend()\n",
        "plt.show()"
      ],
      "execution_count": 35,
      "outputs": [
        {
          "output_type": "display_data",
          "data": {
            "image/png": "[encoded data removed]",
            "text/plain": [
              "<Figure size 864x720 with 1 Axes>"
            ]
          },
          "metadata": {
            "needs_background": "light"
          }
        }
      ]
    },
    {
      "cell_type": "markdown",
      "source": [
        "## Step 3 - Heterogeneous effect\n",
        "\n",
        "In the previous dataset, we observed the same effect value across all units. Such homogeneity does not always apply. In the second part of this exercise, we are going to explore a toy data where the effect is cleary heterogeneous."
      ],
      "metadata": {
        "id": "pUN--8UUbco7"
      }
    },
    {
      "cell_type": "markdown",
      "source": [
        "### Step 3.1 - Problem setting\n",
        "\n",
        "This dataset was generated via the [hte_generate.py](https://github.com/dmachlanski/CE888_2022/blob/main/lab4/data/hte_generate.py) script. Similarly to the previous dataset, the usual 'triangle' causal graph applies here as well."
      ],
      "metadata": {
        "id": "QqxyKX-sbjgf"
      }
    },
    {
      "cell_type": "markdown",
      "source": [
        "![triangle.png](data:image/png;base64,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)"
      ],
      "metadata": {
        "id": "V4vYzowUszWJ"
      }
    },
    {
      "cell_type": "markdown",
      "source": [
        "Here, we are interested in estimating the effect of T on Y, while also knowing that X affects both covariates. In addition, we know there is more than one effect group, which will become apparent once we start exploring the data visually."
      ],
      "metadata": {
        "id": "7rlR5seEpifM"
      }
    },
    {
      "cell_type": "markdown",
      "source": [
        "### Step 3.2 - Metrics\n",
        "\n",
        "We can use the same metrics as in the previous dataset ($ϵ_{ATE}$ and $ϵ_{PEHE}$), so there is no need to implement more - just reuse the existing code."
      ],
      "metadata": {
        "id": "mGbHoNIKrEqw"
      }
    },
    {
      "cell_type": "markdown",
      "source": [
        "### Step 3.3 - Load the data\n",
        "\n",
        "The data can be found [here](https://github.com/dmachlanski/CE888_2022/tree/main/lab4/data). It has been already split into training and testing sets (hte_train.csv and hte_test.csv)."
      ],
      "metadata": {
        "id": "qGf8roBFcUNZ"
      }
    },
    {
      "cell_type": "code",
      "source": [
        "# Load the dataset\n",
        "# 1. Load hte_train.csv from: https://raw.githubusercontent.com/dmachlanski/CE888_2022/main/lab4/data/hte_train.csv\n",
        "# 2. Load hte_test.csv from: https://raw.githubusercontent.com/dmachlanski/CE888_2022/main/lab4/data/hte_test.csv\n",
        "\n",
        "# YOUR CODE HERE\n",
        "hte_train = pd.read_csv('https://raw.githubusercontent.com/dmachlanski/CE888_2022/main/lab4/data/hte_train.csv')\n",
        "hte_test = pd.read_csv('https://raw.githubusercontent.com/dmachlanski/CE888_2022/main/lab4/data/hte_test.csv')"
      ],
      "metadata": {
        "id": "jXBKC0oicwYp"
      },
      "execution_count": 36,
      "outputs": []
    },
    {
      "cell_type": "code",
      "source": [
        "hte_train"
      ],
      "metadata": {
        "colab": {
          "base_uri": "https://localhost:8080/",
          "height": 959
        },
        "id": "u0kDa5yCF2_t",
        "outputId": "4079cce5-e4ed-4639-ea48-6f7a545d91d8"
      },
      "execution_count": 39,
      "outputs": [
        {
          "output_type": "execute_result",
          "data": {
            "text/html": [
              "\n",
              "  <div id=\"df-e3a035e9-6e3d-4d4a-86ba-a3413e8a6a1d\">\n",
              "    <div class=\"colab-df-container\">\n",
              "      <div>\n",
              "<style scoped>\n",
              "    .dataframe tbody tr th:only-of-type {\n",
              "        vertical-align: middle;\n",
              "    }\n",
              "\n",
              "    .dataframe tbody tr th {\n",
              "        vertical-align: top;\n",
              "    }\n",
              "\n",
              "    .dataframe thead th {\n",
              "        text-align: right;\n",
              "    }\n",
              "</style>\n",
              "<table border=\"1\" class=\"dataframe\">\n",
              "  <thead>\n",
              "    <tr style=\"text-align: right;\">\n",
              "      <th></th>\n",
              "      <th>x</th>\n",
              "      <th>t</th>\n",
              "      <th>y</th>\n",
              "      <th>ite</th>\n",
              "    </tr>\n",
              "  </thead>\n",
              "  <tbody>\n",
              "    <tr>\n",
              "      <th>0</th>\n",
              "      <td>0.023976</td>\n",
              "      <td>1.0</td>\n",
              "      <td>2.429799</td>\n",
              "      <td>2.3</td>\n",
              "    </tr>\n",
              "    <tr>\n",
              "      <th>1</th>\n",
              "      <td>-0.094244</td>\n",
              "      <td>1.0</td>\n",
              "      <td>2.363082</td>\n",
              "      <td>2.3</td>\n",
              "    </tr>\n",
              "    <tr>\n",
              "      <th>2</th>\n",
              "      <td>-0.020031</td>\n",
              "      <td>1.0</td>\n",
              "      <td>2.572256</td>\n",
              "      <td>2.3</td>\n",
              "    </tr>\n",
              "    <tr>\n",
              "      <th>3</th>\n",
              "      <td>0.006930</td>\n",
              "      <td>1.0</td>\n",
              "      <td>2.605929</td>\n",
              "      <td>2.3</td>\n",
              "    </tr>\n",
              "    <tr>\n",
              "      <th>4</th>\n",
              "      <td>1.156410</td>\n",
              "      <td>1.0</td>\n",
              "      <td>0.346002</td>\n",
              "      <td>-3.7</td>\n",
              "    </tr>\n",
              "    <tr>\n",
              "      <th>5</th>\n",
              "      <td>0.967568</td>\n",
              "      <td>1.0</td>\n",
              "      <td>0.270944</td>\n",
              "      <td>-3.7</td>\n",
              "    </tr>\n",
              "    <tr>\n",
              "      <th>6</th>\n",
              "      <td>1.170034</td>\n",
              "      <td>1.0</td>\n",
              "      <td>0.247845</td>\n",
              "      <td>-3.7</td>\n",
              "    </tr>\n",
              "    <tr>\n",
              "      <th>7</th>\n",
              "      <td>0.978594</td>\n",
              "      <td>1.0</td>\n",
              "      <td>0.349678</td>\n",
              "      <td>-3.7</td>\n",
              "    </tr>\n",
              "    <tr>\n",
              "      <th>8</th>\n",
              "      <td>1.088417</td>\n",
              "      <td>1.0</td>\n",
              "      <td>0.277689</td>\n",
              "      <td>-3.7</td>\n",
              "    </tr>\n",
              "    <tr>\n",
              "      <th>9</th>\n",
              "      <td>0.971477</td>\n",
              "      <td>1.0</td>\n",
              "      <td>0.270005</td>\n",
              "      <td>-3.7</td>\n",
              "    </tr>\n",
              "    <tr>\n",
              "      <th>10</th>\n",
              "      <td>1.151614</td>\n",
              "      <td>1.0</td>\n",
              "      <td>0.362379</td>\n",
              "      <td>-3.7</td>\n",
              "    </tr>\n",
              "    <tr>\n",
              "      <th>11</th>\n",
              "      <td>0.952719</td>\n",
              "      <td>1.0</td>\n",
              "      <td>0.323918</td>\n",
              "      <td>-3.7</td>\n",
              "    </tr>\n",
              "    <tr>\n",
              "      <th>12</th>\n",
              "      <td>0.912738</td>\n",
              "      <td>1.0</td>\n",
              "      <td>0.408276</td>\n",
              "      <td>-3.7</td>\n",
              "    </tr>\n",
              "    <tr>\n",
              "      <th>13</th>\n",
              "      <td>0.916683</td>\n",
              "      <td>1.0</td>\n",
              "      <td>0.328669</td>\n",
              "      <td>-3.7</td>\n",
              "    </tr>\n",
              "    <tr>\n",
              "      <th>14</th>\n",
              "      <td>0.967755</td>\n",
              "      <td>1.0</td>\n",
              "      <td>0.313483</td>\n",
              "      <td>-3.7</td>\n",
              "    </tr>\n",
              "    <tr>\n",
              "      <th>15</th>\n",
              "      <td>0.965538</td>\n",
              "      <td>0.0</td>\n",
              "      <td>4.287309</td>\n",
              "      <td>-3.7</td>\n",
              "    </tr>\n",
              "    <tr>\n",
              "      <th>16</th>\n",
              "      <td>1.017551</td>\n",
              "      <td>0.0</td>\n",
              "      <td>3.888901</td>\n",
              "      <td>-3.7</td>\n",
              "    </tr>\n",
              "    <tr>\n",
              "      <th>17</th>\n",
              "      <td>-0.135602</td>\n",
              "      <td>0.0</td>\n",
              "      <td>0.095073</td>\n",
              "      <td>2.3</td>\n",
              "    </tr>\n",
              "    <tr>\n",
              "      <th>18</th>\n",
              "      <td>-0.095562</td>\n",
              "      <td>0.0</td>\n",
              "      <td>0.289327</td>\n",
              "      <td>2.3</td>\n",
              "    </tr>\n",
              "    <tr>\n",
              "      <th>19</th>\n",
              "      <td>-0.067528</td>\n",
              "      <td>0.0</td>\n",
              "      <td>0.169192</td>\n",
              "      <td>2.3</td>\n",
              "    </tr>\n",
              "    <tr>\n",
              "      <th>20</th>\n",
              "      <td>-0.060079</td>\n",
              "      <td>0.0</td>\n",
              "      <td>0.254163</td>\n",
              "      <td>2.3</td>\n",
              "    </tr>\n",
              "    <tr>\n",
              "      <th>21</th>\n",
              "      <td>-0.060335</td>\n",
              "      <td>0.0</td>\n",
              "      <td>0.228907</td>\n",
              "      <td>2.3</td>\n",
              "    </tr>\n",
              "    <tr>\n",
              "      <th>22</th>\n",
              "      <td>-0.188766</td>\n",
              "      <td>0.0</td>\n",
              "      <td>0.218091</td>\n",
              "      <td>2.3</td>\n",
              "    </tr>\n",
              "    <tr>\n",
              "      <th>23</th>\n",
              "      <td>-0.182713</td>\n",
              "      <td>0.0</td>\n",
              "      <td>0.257520</td>\n",
              "      <td>2.3</td>\n",
              "    </tr>\n",
              "    <tr>\n",
              "      <th>24</th>\n",
              "      <td>0.047785</td>\n",
              "      <td>0.0</td>\n",
              "      <td>0.280476</td>\n",
              "      <td>2.3</td>\n",
              "    </tr>\n",
              "    <tr>\n",
              "      <th>25</th>\n",
              "      <td>-0.056722</td>\n",
              "      <td>0.0</td>\n",
              "      <td>0.187810</td>\n",
              "      <td>2.3</td>\n",
              "    </tr>\n",
              "    <tr>\n",
              "      <th>26</th>\n",
              "      <td>0.049279</td>\n",
              "      <td>0.0</td>\n",
              "      <td>0.154501</td>\n",
              "      <td>2.3</td>\n",
              "    </tr>\n",
              "    <tr>\n",
              "      <th>27</th>\n",
              "      <td>-0.066418</td>\n",
              "      <td>0.0</td>\n",
              "      <td>0.215483</td>\n",
              "      <td>2.3</td>\n",
              "    </tr>\n",
              "    <tr>\n",
              "      <th>28</th>\n",
              "      <td>-0.129181</td>\n",
              "      <td>0.0</td>\n",
              "      <td>0.196130</td>\n",
              "      <td>2.3</td>\n",
              "    </tr>\n",
              "  </tbody>\n",
              "</table>\n",
              "</div>\n",
              "      <button class=\"colab-df-convert\" onclick=\"convertToInteractive('df-e3a035e9-6e3d-4d4a-86ba-a3413e8a6a1d')\"\n",
              "              title=\"Convert this dataframe to an interactive table.\"\n",
              "              style=\"display:none;\">\n",
              "        \n",
              "  <svg xmlns=\"http://www.w3.org/2000/svg\" height=\"24px\"viewBox=\"0 0 24 24\"\n",
              "       width=\"24px\">\n",
              "    <path d=\"M0 0h24v24H0V0z\" fill=\"none\"/>\n",
              "    <path d=\"M18.56 5.44l.94 2.06.94-2.06 2.06-.94-2.06-.94-.94-2.06-.94 2.06-2.06.94zm-11 1L8.5 8.5l.94-2.06 2.06-.94-2.06-.94L8.5 2.5l-.94 2.06-2.06.94zm10 10l.94 2.06.94-2.06 2.06-.94-2.06-.94-.94-2.06-.94 2.06-2.06.94z\"/><path d=\"M17.41 7.96l-1.37-1.37c-.4-.4-.92-.59-1.43-.59-.52 0-1.04.2-1.43.59L10.3 9.45l-7.72 7.72c-.78.78-.78 2.05 0 2.83L4 21.41c.39.39.9.59 1.41.59.51 0 1.02-.2 1.41-.59l7.78-7.78 2.81-2.81c.8-.78.8-2.07 0-2.86zM5.41 20L4 18.59l7.72-7.72 1.47 1.35L5.41 20z\"/>\n",
              "  </svg>\n",
              "      </button>\n",
              "      \n",
              "  <style>\n",
              "    .colab-df-container {\n",
              "      display:flex;\n",
              "      flex-wrap:wrap;\n",
              "      gap: 12px;\n",
              "    }\n",
              "\n",
              "    .colab-df-convert {\n",
              "      background-color: #E8F0FE;\n",
              "      border: none;\n",
              "      border-radius: 50%;\n",
              "      cursor: pointer;\n",
              "      display: none;\n",
              "      fill: #1967D2;\n",
              "      height: 32px;\n",
              "      padding: 0 0 0 0;\n",
              "      width: 32px;\n",
              "    }\n",
              "\n",
              "    .colab-df-convert:hover {\n",
              "      background-color: #E2EBFA;\n",
              "      box-shadow: 0px 1px 2px rgba(60, 64, 67, 0.3), 0px 1px 3px 1px rgba(60, 64, 67, 0.15);\n",
              "      fill: #174EA6;\n",
              "    }\n",
              "\n",
              "    [theme=dark] .colab-df-convert {\n",
              "      background-color: #3B4455;\n",
              "      fill: #D2E3FC;\n",
              "    }\n",
              "\n",
              "    [theme=dark] .colab-df-convert:hover {\n",
              "      background-color: #434B5C;\n",
              "      box-shadow: 0px 1px 3px 1px rgba(0, 0, 0, 0.15);\n",
              "      filter: drop-shadow(0px 1px 2px rgba(0, 0, 0, 0.3));\n",
              "      fill: #FFFFFF;\n",
              "    }\n",
              "  </style>\n",
              "\n",
              "      <script>\n",
              "        const buttonEl =\n",
              "          document.querySelector('#df-e3a035e9-6e3d-4d4a-86ba-a3413e8a6a1d button.colab-df-convert');\n",
              "        buttonEl.style.display =\n",
              "          google.colab.kernel.accessAllowed ? 'block' : 'none';\n",
              "\n",
              "        async function convertToInteractive(key) {\n",
              "          const element = document.querySelector('#df-e3a035e9-6e3d-4d4a-86ba-a3413e8a6a1d');\n",
              "          const dataTable =\n",
              "            await google.colab.kernel.invokeFunction('convertToInteractive',\n",
              "                                                     [key], {});\n",
              "          if (!dataTable) return;\n",
              "\n",
              "          const docLinkHtml = 'Like what you see? Visit the ' +\n",
              "            '<a target=\"_blank\" href=https://colab.research.google.com/notebooks/data_table.ipynb>data table notebook</a>'\n",
              "            + ' to learn more about interactive tables.';\n",
              "          element.innerHTML = '';\n",
              "          dataTable['output_type'] = 'display_data';\n",
              "          await google.colab.output.renderOutput(dataTable, element);\n",
              "          const docLink = document.createElement('div');\n",
              "          docLink.innerHTML = docLinkHtml;\n",
              "          element.appendChild(docLink);\n",
              "        }\n",
              "      </script>\n",
              "    </div>\n",
              "  </div>\n",
              "  "
            ],
            "text/plain": [
              "           x    t         y  ite\n",
              "0   0.023976  1.0  2.429799  2.3\n",
              "1  -0.094244  1.0  2.363082  2.3\n",
              "2  -0.020031  1.0  2.572256  2.3\n",
              "3   0.006930  1.0  2.605929  2.3\n",
              "4   1.156410  1.0  0.346002 -3.7\n",
              "5   0.967568  1.0  0.270944 -3.7\n",
              "6   1.170034  1.0  0.247845 -3.7\n",
              "7   0.978594  1.0  0.349678 -3.7\n",
              "8   1.088417  1.0  0.277689 -3.7\n",
              "9   0.971477  1.0  0.270005 -3.7\n",
              "10  1.151614  1.0  0.362379 -3.7\n",
              "11  0.952719  1.0  0.323918 -3.7\n",
              "12  0.912738  1.0  0.408276 -3.7\n",
              "13  0.916683  1.0  0.328669 -3.7\n",
              "14  0.967755  1.0  0.313483 -3.7\n",
              "15  0.965538  0.0  4.287309 -3.7\n",
              "16  1.017551  0.0  3.888901 -3.7\n",
              "17 -0.135602  0.0  0.095073  2.3\n",
              "18 -0.095562  0.0  0.289327  2.3\n",
              "19 -0.067528  0.0  0.169192  2.3\n",
              "20 -0.060079  0.0  0.254163  2.3\n",
              "21 -0.060335  0.0  0.228907  2.3\n",
              "22 -0.188766  0.0  0.218091  2.3\n",
              "23 -0.182713  0.0  0.257520  2.3\n",
              "24  0.047785  0.0  0.280476  2.3\n",
              "25 -0.056722  0.0  0.187810  2.3\n",
              "26  0.049279  0.0  0.154501  2.3\n",
              "27 -0.066418  0.0  0.215483  2.3\n",
              "28 -0.129181  0.0  0.196130  2.3"
            ]
          },
          "metadata": {},
          "execution_count": 39
        }
      ]
    },
    {
      "cell_type": "markdown",
      "source": [
        "Now explore the data a bit. You can follow exactly the same process as with the sodium dataset - make histograms and scatter plots. Feel free to reuse the code from the previous parts of the exercise."
      ],
      "metadata": {
        "id": "zFjVXii3wHr9"
      }
    },
    {
      "cell_type": "code",
      "source": [
        "# Scatter plots - feel free to reuse the code from the sodium example.\n",
        "# Hint: use DataFrame.loc to access treated and control units, or store the columns as numpy arrays.\n",
        "X = hte_train['x']\n",
        "T = hte_train['t']\n",
        "Y = hte_train['y']\n",
        "ite = hte_train['ite']\n",
        "# YOUR CODE HERE\n",
        "limit = 100\n",
        "plt.scatter(X[T == 1][:limit], Y[T == 1][:limit], c = \"r\", label = \"Treated\")\n",
        "plt.scatter(X[T == 0][:limit], Y[T == 0][:limit], c = \"g\", label = \"Control\")\n",
        "plt.legend(ncol=2)"
      ],
      "metadata": {
        "id": "d9I62ywcdB6v",
        "colab": {
          "base_uri": "https://localhost:8080/",
          "height": 282
        },
        "outputId": "936ffa76-2d88-4b89-a406-f2d0e187d538"
      },
      "execution_count": 53,
      "outputs": [
        {
          "output_type": "execute_result",
          "data": {
            "text/plain": [
              "<matplotlib.legend.Legend at 0x7fe3e28e2850>"
            ]
          },
          "metadata": {},
          "execution_count": 53
        },
        {
          "output_type": "display_data",
          "data": {
            "image/png": "[encoded data removed]",
            "text/plain": [
              "<Figure size 432x288 with 1 Axes>"
            ]
          },
          "metadata": {
            "needs_background": "light"
          }
        }
      ]
    },
    {
      "cell_type": "code",
      "source": [
        "# Histograms - again, feel free to reuse the pre-existing code.\n",
        "\n",
        "# YOUR CODE HERE\n",
        "bins=20\n",
        "fig, axs = plt.subplots(1, 4, figsize=(16, 4))\n",
        "axs[0].hist(X, bins=bins)\n",
        "axs[1].hist(T, bins=bins)\n",
        "axs[2].hist(Y, bins=bins)\n",
        "axs[3].hist(ite, bins=bins)\n",
        "plt.show()"
      ],
      "metadata": {
        "id": "se03ujVwdHUP",
        "colab": {
          "base_uri": "https://localhost:8080/",
          "height": 265
        },
        "outputId": "c24201cc-7030-4a98-89e0-ad777aa5efad"
      },
      "execution_count": 54,
      "outputs": [
        {
          "output_type": "display_data",
          "data": {
            "image/png": "[encoded data removed]",
            "text/plain": [
              "<Figure size 1152x288 with 4 Axes>"
            ]
          },
          "metadata": {
            "needs_background": "light"
          }
        }
      ]
    },
    {
      "cell_type": "markdown",
      "source": [
        "Once you do the plots, it should be quite obvious by now that we have two heterogeneous effect groups: ITE is either -3.7 or 2.3."
      ],
      "metadata": {
        "id": "alheUg-vwq8Z"
      }
    },
    {
      "cell_type": "markdown",
      "source": [
        "### Step 3.4 Data pre-processing\n",
        "\n",
        "There is little (if any) data pre-processing necessary here. The dataset is already divided into training and testing. The only part left is scaling, depending on the type of models you plan to use."
      ],
      "metadata": {
        "id": "kpaoBnIJccuD"
      }
    },
    {
      "cell_type": "code",
      "source": [
        "# YOUR CODE HERE\n",
        "scaler_x = StandardScaler()\n",
        "x_train = scaler_x.fit_transform(hte_train['x'].values.reshape(-1,1))\n",
        "x_test = scaler_x.transform(hte_test['x'].values.reshape(-1,1))\n",
        "t_train = hte_train['t'].values.reshape(-1,1)\n",
        "t_test= hte_test['t'].values.reshape(-1,1)\n",
        "y_train= hte_train['y'].values.reshape(-1,1)\n",
        "y_test= hte_test['y'].values.reshape(-1,1)"
      ],
      "metadata": {
        "id": "qxbZbR49x9d6"
      },
      "execution_count": 70,
      "outputs": []
    },
    {
      "cell_type": "markdown",
      "source": [
        "### Step 3.5 Training\n",
        "\n",
        "This is the modelling part. You should have the following types of models:\n",
        "- Regressor (scikit-learn)\n",
        "- **Weighted** regressor (IPW, scikit-learn)\n",
        "- [CATE](https://econml.azurewebsites.net/reference.html#cate-estimators) estimator from EconML\n",
        "\n",
        "For each of the above types, choose the models you like - it is up to you!\n",
        "\n",
        "Steps:\n",
        "1. Train the models on training data.\n",
        "2. Predict outcomes and calculate effects, or predict effects directly, depending on the method used, on test data."
      ],
      "metadata": {
        "id": "CT7yY3HYckGz"
      }
    },
    {
      "cell_type": "code",
      "source": [
        "# YOUR CODE HERE (add new code cells as necessary)\n",
        "from sklearn.neighbors import KNeighborsRegressor\n",
        "neigh = KNeighborsRegressor(n_neighbors=2)\n",
        "xt_train = np.concatenate([x_train, t_train], axis=1)\n",
        "neigh.fit(x_train, y_train)\n",
        "xt0_test = np.concatenate([x_test, np.zeros_like(x_test)], axis=1)# YOUR CODE HERE\n",
        "knn_y0_test = rf.predict(xt0_test)\n",
        "xt1_test = np.concatenate([x_test, np.ones_like(x_test)], axis=1)# YOUR CODE HERE\n",
        "knn_y1_test = rf.predict(xt1_test)\n",
        "# Compute ITEs\n",
        "# ITE = Y_1 - Y_0\n",
        "knn_te_test = knn_y1_test-knn_y0_test# YOUR CODE HERE\n"
      ],
      "metadata": {
        "id": "p7ZCfTKsdXJL"
      },
      "execution_count": 73,
      "outputs": []
    },
    {
      "cell_type": "code",
      "source": [
        "#weighted classifier\n",
        "prop_clf = RandomForestClassifier()\n",
        "weights = get_ps_weights(prop_clf, x_train, t_train)\n",
        "\n",
        "# Train the regressor\n",
        "rf_ipsw = RandomForestRegressor()\n",
        "\n",
        "rf_ipsw.fit(xt_train, y_train.flatten(), sample_weight= weights)\n",
        "\n",
        "# Make predictions\n",
        "rf_ipsw_y0_test = rf_ipsw.predict(xt0_test) # YOUR CODE HERE\n",
        "rf_ipsw_y1_test = rf_ipsw.predict(xt1_test)# YOUR CODE HERE\n",
        "\n",
        "# Compute ITEs\n",
        "rf_ipsw_te_test = rf_ipsw_y1_test - rf_ipsw_y0_test# YOUR CODE HERE"
      ],
      "metadata": {
        "id": "xKbhXMc5PJ0Y"
      },
      "execution_count": 74,
      "outputs": []
    },
    {
      "cell_type": "code",
      "source": [
        "# X-Learner\n",
        "xl = XLearner(models=RandomForestRegressor(), propensity_model=RandomForestClassifier())\n",
        "xl.fit(y_train, t_train, X=x_train)\n",
        "\n",
        "xl_te_test = xl.effect(x_test)"
      ],
      "metadata": {
        "colab": {
          "base_uri": "https://localhost:8080/"
        },
        "id": "PrKsfZNgPgQJ",
        "outputId": "ed9aa1a0-8b02-48c4-8aa8-129dc16139e1"
      },
      "execution_count": 75,
      "outputs": [
        {
          "output_type": "stream",
          "name": "stderr",
          "text": [
            "A column-vector y was passed when a 1d array was expected. Please change the shape of y to (n_samples, ), for example using ravel().\n",
            "Function get_feature_names is deprecated; get_feature_names is deprecated in 1.0 and will be removed in 1.2. Please use get_feature_names_out instead.\n"
          ]
        }
      ]
    },
    {
      "cell_type": "markdown",
      "source": [
        "### Step 3.6 Evaluation\n",
        "\n",
        "Here, use both metrics $ϵ_{ATE}$ and $ϵ_{PEHE}$ to evaluate the performance of your models. Feel free to perform any other form of evaluation as we did before (confidence intervals, box plots, etc.)."
      ],
      "metadata": {
        "id": "487u31qJcoiU"
      }
    },
    {
      "cell_type": "code",
      "source": [
        "#assign new variable\n",
        "ite_test = hte_test['ite'].values"
      ],
      "metadata": {
        "id": "N-zxNynbQDlF"
      },
      "execution_count": 76,
      "outputs": []
    },
    {
      "cell_type": "code",
      "source": [
        "# Evaluate your predictions with 'abs_ate' and 'pehe' functions.\n",
        "# Error on ATE\n",
        "# Use our 'abs_ate' function, true ITEs and predicted ITEs to get the measurements.\n",
        "knn_ate_test = abs_ate(ite_test, knn_te_test) # YOUR CODE HERE\n",
        "rf_ipsw_ate_test = abs_ate(ite_test, rf_ipsw_te_test)# YOUR CODE HERE\n",
        "xl_ate_test = abs_ate(ite_test, xl_te_test)# YOUR CODE HERE\n",
        "\n",
        "# PEHE\n",
        "# Use our 'pehe' function, true ITEs and predicted ITEs to get the measurements.\n",
        "knn_pehe_test = pehe(ite_test, knn_te_test)# YOUR CODE HERE\n",
        "rf_ipsw_pehe_test = pehe(ite_test, rf_ipsw_te_test) # YOUR CODE HERE\n",
        "xl_pehe_test = pehe(ite_test, xl_te_test)# YOUR CODE HERE\n",
        "# YOUR CODE HERE (add new code cells as necessary)"
      ],
      "metadata": {
        "id": "QFxgxYrPbhZT"
      },
      "execution_count": 77,
      "outputs": []
    },
    {
      "cell_type": "code",
      "source": [
        "results = []\n",
        "results.append(['KNN', knn_ate_test, knn_pehe_test])\n",
        "results.append(['RF (IPW)', rf_ipsw_ate_test, rf_ipsw_pehe_test])\n",
        "results.append(['XL', xl_ate_test, xl_pehe_test])\n",
        "\n",
        "cols = ['Method', 'ATE test', 'PEHE test']\n",
        "\n",
        "df = pd.DataFrame(results, columns=cols)\n",
        "df"
      ],
      "metadata": {
        "colab": {
          "base_uri": "https://localhost:8080/",
          "height": 143
        },
        "id": "5NG7z2gsQX6W",
        "outputId": "2026bd63-9631-4b92-efcb-6311ae349745"
      },
      "execution_count": 78,
      "outputs": [
        {
          "output_type": "execute_result",
          "data": {
            "text/html": [
              "\n",
              "  <div id=\"df-279bfc6a-d7f2-4437-a9cd-ebdbb2ea9fb0\">\n",
              "    <div class=\"colab-df-container\">\n",
              "      <div>\n",
              "<style scoped>\n",
              "    .dataframe tbody tr th:only-of-type {\n",
              "        vertical-align: middle;\n",
              "    }\n",
              "\n",
              "    .dataframe tbody tr th {\n",
              "        vertical-align: top;\n",
              "    }\n",
              "\n",
              "    .dataframe thead th {\n",
              "        text-align: right;\n",
              "    }\n",
              "</style>\n",
              "<table border=\"1\" class=\"dataframe\">\n",
              "  <thead>\n",
              "    <tr style=\"text-align: right;\">\n",
              "      <th></th>\n",
              "      <th>Method</th>\n",
              "      <th>ATE test</th>\n",
              "      <th>PEHE test</th>\n",
              "    </tr>\n",
              "  </thead>\n",
              "  <tbody>\n",
              "    <tr>\n",
              "      <th>0</th>\n",
              "      <td>KNN</td>\n",
              "      <td>1.996468</td>\n",
              "      <td>3.876807</td>\n",
              "    </tr>\n",
              "    <tr>\n",
              "      <th>1</th>\n",
              "      <td>RF (IPW)</td>\n",
              "      <td>0.485701</td>\n",
              "      <td>1.502929</td>\n",
              "    </tr>\n",
              "    <tr>\n",
              "      <th>2</th>\n",
              "      <td>XL</td>\n",
              "      <td>0.237417</td>\n",
              "      <td>4.046936</td>\n",
              "    </tr>\n",
              "  </tbody>\n",
              "</table>\n",
              "</div>\n",
              "      <button class=\"colab-df-convert\" onclick=\"convertToInteractive('df-279bfc6a-d7f2-4437-a9cd-ebdbb2ea9fb0')\"\n",
              "              title=\"Convert this dataframe to an interactive table.\"\n",
              "              style=\"display:none;\">\n",
              "        \n",
              "  <svg xmlns=\"http://www.w3.org/2000/svg\" height=\"24px\"viewBox=\"0 0 24 24\"\n",
              "       width=\"24px\">\n",
              "    <path d=\"M0 0h24v24H0V0z\" fill=\"none\"/>\n",
              "    <path d=\"M18.56 5.44l.94 2.06.94-2.06 2.06-.94-2.06-.94-.94-2.06-.94 2.06-2.06.94zm-11 1L8.5 8.5l.94-2.06 2.06-.94-2.06-.94L8.5 2.5l-.94 2.06-2.06.94zm10 10l.94 2.06.94-2.06 2.06-.94-2.06-.94-.94-2.06-.94 2.06-2.06.94z\"/><path d=\"M17.41 7.96l-1.37-1.37c-.4-.4-.92-.59-1.43-.59-.52 0-1.04.2-1.43.59L10.3 9.45l-7.72 7.72c-.78.78-.78 2.05 0 2.83L4 21.41c.39.39.9.59 1.41.59.51 0 1.02-.2 1.41-.59l7.78-7.78 2.81-2.81c.8-.78.8-2.07 0-2.86zM5.41 20L4 18.59l7.72-7.72 1.47 1.35L5.41 20z\"/>\n",
              "  </svg>\n",
              "      </button>\n",
              "      \n",
              "  <style>\n",
              "    .colab-df-container {\n",
              "      display:flex;\n",
              "      flex-wrap:wrap;\n",
              "      gap: 12px;\n",
              "    }\n",
              "\n",
              "    .colab-df-convert {\n",
              "      background-color: #E8F0FE;\n",
              "      border: none;\n",
              "      border-radius: 50%;\n",
              "      cursor: pointer;\n",
              "      display: none;\n",
              "      fill: #1967D2;\n",
              "      height: 32px;\n",
              "      padding: 0 0 0 0;\n",
              "      width: 32px;\n",
              "    }\n",
              "\n",
              "    .colab-df-convert:hover {\n",
              "      background-color: #E2EBFA;\n",
              "      box-shadow: 0px 1px 2px rgba(60, 64, 67, 0.3), 0px 1px 3px 1px rgba(60, 64, 67, 0.15);\n",
              "      fill: #174EA6;\n",
              "    }\n",
              "\n",
              "    [theme=dark] .colab-df-convert {\n",
              "      background-color: #3B4455;\n",
              "      fill: #D2E3FC;\n",
              "    }\n",
              "\n",
              "    [theme=dark] .colab-df-convert:hover {\n",
              "      background-color: #434B5C;\n",
              "      box-shadow: 0px 1px 3px 1px rgba(0, 0, 0, 0.15);\n",
              "      filter: drop-shadow(0px 1px 2px rgba(0, 0, 0, 0.3));\n",
              "      fill: #FFFFFF;\n",
              "    }\n",
              "  </style>\n",
              "\n",
              "      <script>\n",
              "        const buttonEl =\n",
              "          document.querySelector('#df-279bfc6a-d7f2-4437-a9cd-ebdbb2ea9fb0 button.colab-df-convert');\n",
              "        buttonEl.style.display =\n",
              "          google.colab.kernel.accessAllowed ? 'block' : 'none';\n",
              "\n",
              "        async function convertToInteractive(key) {\n",
              "          const element = document.querySelector('#df-279bfc6a-d7f2-4437-a9cd-ebdbb2ea9fb0');\n",
              "          const dataTable =\n",
              "            await google.colab.kernel.invokeFunction('convertToInteractive',\n",
              "                                                     [key], {});\n",
              "          if (!dataTable) return;\n",
              "\n",
              "          const docLinkHtml = 'Like what you see? Visit the ' +\n",
              "            '<a target=\"_blank\" href=https://colab.research.google.com/notebooks/data_table.ipynb>data table notebook</a>'\n",
              "            + ' to learn more about interactive tables.';\n",
              "          element.innerHTML = '';\n",
              "          dataTable['output_type'] = 'display_data';\n",
              "          await google.colab.output.renderOutput(dataTable, element);\n",
              "          const docLink = document.createElement('div');\n",
              "          docLink.innerHTML = docLinkHtml;\n",
              "          element.appendChild(docLink);\n",
              "        }\n",
              "      </script>\n",
              "    </div>\n",
              "  </div>\n",
              "  "
            ],
            "text/plain": [
              "     Method  ATE test  PEHE test\n",
              "0       KNN  1.996468   3.876807\n",
              "1  RF (IPW)  0.485701   1.502929\n",
              "2        XL  0.237417   4.046936"
            ]
          },
          "metadata": {},
          "execution_count": 78
        }
      ]
    },
    {
      "cell_type": "code",
      "source": [
        "plt.figure()\n",
        "plt.boxplot([knn_te_test, rf_ipsw_te_test, xl_te_test.flatten()], labels=['KNN', 'RF (IPW)', 'X-learner'])\n",
        "plt.ylabel('Treatment Effect')\n",
        "\n",
        "plt.show()"
      ],
      "metadata": {
        "colab": {
          "base_uri": "https://localhost:8080/",
          "height": 265
        },
        "id": "gDOSVMsAQluW",
        "outputId": "7302b44c-9054-4179-ac2f-45f5cd48eab4"
      },
      "execution_count": 79,
      "outputs": [
        {
          "output_type": "display_data",
          "data": {
            "image/png": "[encoded data removed]",
            "text/plain": [
              "<Figure size 432x288 with 1 Axes>"
            ]
          },
          "metadata": {
            "needs_background": "light"
          }
        }
      ]
    },
    {
      "cell_type": "code",
      "source": [
        "plt.figure(figsize=(12, 10))\n",
        "m_size = 10\n",
        "plt.scatter(x_test, knn_te_test, label=\"KNN\", s=m_size)\n",
        "plt.scatter(x_test, rf_ipsw_te_test, label=\"RF (IPW)\", s=m_size)\n",
        "plt.scatter(x_test, xl_te_test, label=\"X-learner\", s=m_size)\n",
        "plt.xlabel('X')\n",
        "plt.ylabel('Treatment Effect')\n",
        "plt.legend()\n",
        "plt.show()"
      ],
      "metadata": {
        "colab": {
          "base_uri": "https://localhost:8080/",
          "height": 606
        },
        "id": "GfR46XO3QuaO",
        "outputId": "8e5bdf01-89cd-4a33-a754-60800fde597b"
      },
      "execution_count": 81,
      "outputs": [
        {
          "output_type": "display_data",
          "data": {
            "image/png": "[encoded data removed]",
            "text/plain": [
              "<Figure size 864x720 with 1 Axes>"
            ]
          },
          "metadata": {
            "needs_background": "light"
          }
        }
      ]
    },
    {
      "cell_type": "markdown",
      "source": [
        "## Final comment\n",
        "\n",
        "Make sure to upload this notebook to your GitHub repo once you finished!"
      ],
      "metadata": {
        "id": "vkaggYEKKA7-"
      }
    }
  ]
}