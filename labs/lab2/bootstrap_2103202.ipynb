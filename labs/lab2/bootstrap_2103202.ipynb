{
  "nbformat": 4,
  "nbformat_minor": 0,
  "metadata": {
    "colab": {
      "name": "bootstrap_2103202.ipynb",
      "provenance": [],
      "include_colab_link": true
    },
    "kernelspec": {
      "display_name": "Python 3",
      "language": "python",
      "name": "python3"
    },
    "language_info": {
      "codemirror_mode": {
        "name": "ipython",
        "version": 3
      },
      "file_extension": ".py",
      "mimetype": "text/x-python",
      "name": "python",
      "nbconvert_exporter": "python",
      "pygments_lexer": "ipython3",
      "version": "3.7.6"
    },
    "pycharm": {
      "stem_cell": {
        "cell_type": "raw",
        "metadata": {
          "collapsed": false
        },
        "source": []
      }
    }
  },
  "cells": [
    {
      "cell_type": "markdown",
      "metadata": {
        "id": "view-in-github",
        "colab_type": "text"
      },
      "source": [
        "<a href=\"https://colab.research.google.com/github/golfn123/CE888Project/blob/main/labs/lab2/bootstrap_2103202.ipynb\" target=\"_parent\"><img src=\"https://colab.research.google.com/assets/colab-badge.svg\" alt=\"Open In Colab\"/></a>"
      ]
    },
    {
      "cell_type": "markdown",
      "metadata": {
        "id": "nCi_99yMYIb1"
      },
      "source": [
        "In this notebook you'll create your own bootstrap function following the bootstrap algorithm (check the lecture notes!)"
      ]
    },
    {
      "cell_type": "code",
      "metadata": {
        "id": "LY5zujI2YC37",
        "pycharm": {
          "name": "#%%# Imports\n"
        }
      },
      "source": [
        "import matplotlib\n",
        "import pandas as pd\n",
        "import seaborn as sns\n",
        "import numpy as np\n",
        "\n"
      ],
      "execution_count": null,
      "outputs": []
    },
    {
      "cell_type": "code",
      "metadata": {
        "id": "Eqkwj4SMY38t",
        "colab": {
          "base_uri": "https://localhost:8080/"
        },
        "outputId": "17e181dd-42c4-4979-efcc-6e4bc8659c04"
      },
      "source": [
        "# Load the data\n",
        "df = pd.read_csv('https://raw.githubusercontent.com/albanda/CE888/master/lab2%20-%20bootstrap/customers.csv')\n",
        "data = df.values.T[1]\n",
        "data"
      ],
      "execution_count": null,
      "outputs": [
        {
          "output_type": "execute_result",
          "data": {
            "text/plain": [
              "array([ 2.,  8., 20., 13.,  5.,  9., 10.,  8., 22., 10.,  2.,  4.,  7.,\n",
              "        9.])"
            ]
          },
          "metadata": {},
          "execution_count": 32
        }
      ]
    },
    {
      "cell_type": "code",
      "metadata": {
        "id": "Gxvc_bScYC4H",
        "pycharm": {
          "name": "#%%\n"
        }
      },
      "source": [
        "# Checking the notes from the lecture, create here your own bootstrap function:\n",
        "# 1. Sample from the input array x to create an array of samples of shape (n_bootstraps, sample_size)\n",
        "# Hint: Check the function random.choice() on Numpy\n",
        "# 2. Calculate and save the mean of the array (this is \"data_mean\" that is returned by the function)\n",
        "# 3. Calculate the mean from each bootstrap (i.e., row) and store it.\n",
        "# (This should be an array of n_bootstraps values)\n",
        "# 4. Calculate the lower and upper bounds for a 95% CI (hint: check the percentile function on Numpy)\n",
        "# 5. Return data_mean, and the lower and upper bounds of your interval\n",
        "def bootstrap_mean(x, sample_size, n_bootstraps):\n",
        "\t# <---INSERT YOUR CODE HERE--->\n",
        "\tbootstraps = np.random.choice(x,size=[n_bootstraps,sample_size])\n",
        "\tdata_mean = np.mean(bootstraps)\n",
        "\tdata_mean_array=np.mean(bootstraps, axis=1)\n",
        "\tupper = np.percentile(data_mean_array,97.5)\n",
        "\tlower = np.percentile(data_mean_array,2.5)\n",
        "\treturn data_mean, lower, upper \n"
      ],
      "execution_count": null,
      "outputs": []
    },
    {
      "cell_type": "code",
      "metadata": {
        "id": "AN7sEOcMYC4P",
        "pycharm": {
          "name": "#%%\n"
        },
        "colab": {
          "base_uri": "https://localhost:8080/",
          "height": 444
        },
        "outputId": "44638ec1-6c5d-47c6-abd3-ced9466986bb"
      },
      "source": [
        "# Call your bootstrap function and plot the results\n",
        "\n",
        "boots = []\n",
        "for i in range(100, 50000, 1000):\n",
        "    boot = bootstrap_mean(data, data.shape[0], i)\n",
        "    boots.append([i, boot[0], \"mean\"])\n",
        "    boots.append([i, boot[1], \"lower\"])\n",
        "    boots.append([i, boot[2], \"upper\"])\n",
        "\n",
        "df_boot = pd.DataFrame(boots, columns=['Bootstrap Iterations', 'Mean', \"Value\"])\n",
        "sns_plot = sns.lmplot(df_boot.columns[0], df_boot.columns[1], data=df_boot, fit_reg=False, hue=\"Value\")\n",
        "\n",
        "sns_plot.axes[0, 0].set_ylim(0,)\n",
        "sns_plot.axes[0, 0].set_xlim(0, 50000)\n"
      ],
      "execution_count": null,
      "outputs": [
        {
          "output_type": "stream",
          "name": "stderr",
          "text": [
            "/usr/local/lib/python3.7/dist-packages/seaborn/_decorators.py:43: FutureWarning: Pass the following variables as keyword args: x, y. From version 0.12, the only valid positional argument will be `data`, and passing other arguments without an explicit keyword will result in an error or misinterpretation.\n",
            "  FutureWarning\n"
          ]
        },
        {
          "output_type": "execute_result",
          "data": {
            "text/plain": [
              "(0.0, 50000.0)"
            ]
          },
          "metadata": {},
          "execution_count": 53
        },
        {
          "output_type": "display_data",
          "data": {
            "image/png": "[encoded data removed]",
            "text/plain": [
              "<Figure size 425.125x360 with 1 Axes>"
            ]
          },
          "metadata": {
            "needs_background": "light"
          }
        }
      ]
    },
    {
      "cell_type": "markdown",
      "metadata": {
        "id": "MjtP4e2_YC4V"
      },
      "source": [
        "\n",
        "Now, modify the bootstrap function you created above so that you can pass your desired confidence interval as a parameter.\n",
        "\n"
      ]
    },
    {
      "cell_type": "code",
      "metadata": {
        "id": "3K9j0FuGYhHs"
      },
      "source": [
        "def bootstrap_mean_ci(sample, sample_size, n_bootstraps, ci):\n",
        "\t# <---INSERT YOUR CODE HERE--->\n",
        "\tbootstraps = np.random.choice(sample,size=[n_bootstraps,sample_size])\n",
        "\tdata_mean = np.mean(bootstraps)\n",
        "\tdata_mean_array=np.mean(bootstraps, axis=1)\n",
        "\tlower = np.percentile(data_mean_array,(100-ci)/2)\n",
        "\tupper = np.percentile(data_mean_array,ci+(100-ci)/2)\n",
        "\treturn data_mean, lower, upper \n"
      ],
      "execution_count": null,
      "outputs": []
    },
    {
      "cell_type": "code",
      "metadata": {
        "id": "uDnjq08GYl-C",
        "colab": {
          "base_uri": "https://localhost:8080/",
          "height": 444
        },
        "outputId": "7799b9f9-7fe0-4612-9df5-680e2dd3eb65"
      },
      "source": [
        "boots = []\n",
        "for i in range(100, 50000, 1000):\n",
        "    boot = bootstrap_mean_ci(data, data.shape[0], i, 80)\n",
        "    boots.append([i, boot[0], \"mean\"])\n",
        "    boots.append([i, boot[1], \"lower\"])\n",
        "    boots.append([i, boot[2], \"upper\"])\n",
        "\n",
        "df_boot = pd.DataFrame(boots, columns=['Boostrap Iterations', 'Mean', \"Value\"])\n",
        "sns_plot = sns.lmplot(df_boot.columns[0], df_boot.columns[1], data=df_boot, fit_reg=False, hue=\"Value\")\n",
        "\n",
        "sns_plot.axes[0, 0].set_ylim(0,)\n",
        "sns_plot.axes[0, 0].set_xlim(0, 50000)\n",
        "\n",
        "#sns_plot.savefig(\"bootstrap_confidence_80.pdf\", bbox_inches='tight')\n"
      ],
      "execution_count": null,
      "outputs": [
        {
          "output_type": "stream",
          "name": "stderr",
          "text": [
            "/usr/local/lib/python3.7/dist-packages/seaborn/_decorators.py:43: FutureWarning: Pass the following variables as keyword args: x, y. From version 0.12, the only valid positional argument will be `data`, and passing other arguments without an explicit keyword will result in an error or misinterpretation.\n",
            "  FutureWarning\n"
          ]
        },
        {
          "output_type": "execute_result",
          "data": {
            "text/plain": [
              "(0.0, 50000.0)"
            ]
          },
          "metadata": {},
          "execution_count": 56
        },
        {
          "output_type": "display_data",
          "data": {
            "image/png": "[encoded data removed]",
            "text/plain": [
              "<Figure size 425.125x360 with 1 Axes>"
            ]
          },
          "metadata": {
            "needs_background": "light"
          }
        }
      ]
    },
    {
      "cell_type": "markdown",
      "metadata": {
        "id": "qjNgXW6wdd7r"
      },
      "source": [
        "# Vehicles dataset\n",
        "\n",
        "Now let's work on a different dataset, which is stored in the vehicles.csv file.\n"
      ]
    },
    {
      "cell_type": "code",
      "metadata": {
        "id": "avWv4ipFdpka",
        "colab": {
          "base_uri": "https://localhost:8080/"
        },
        "outputId": "77e8f1a5-faa4-43bc-add1-9d4e0584f236"
      },
      "source": [
        "# Load and visualise the vehicles dataset\n",
        "# To load the dataset: https://neptune.ai/blog/google-colab-dealing-with-files (check section \"Load individual files directly from GitHub\")\n",
        "\n",
        "\n",
        "\n",
        "# Note that the current and new fleets are in different columns and have different lengths, so bear this in mind when you're plotting.\n",
        "# You can create separate scatterplots for the two fleets, as you would with the histograms, \n",
        "# or plot them both in one plot (but not one against the other).\n",
        "# <---INSERT YOUR CODE HERE--->\n",
        "df_veh_new = pd.read_csv('https://raw.githubusercontent.com/albanda/CE888/master/lab2%20-%20bootstrap/vehicles.csv')\n",
        "old_data = df_veh_new.values.T[0] # we keep for current fleet\n",
        "\n",
        "#df_veh_new\n",
        "df_veh_new = df_veh_new.dropna()\n",
        "#df_veh_new\n",
        "new_data = df_veh_new.values.T[1]\n",
        "#new_data   #this for new fleet\n",
        "old_data\n",
        "# Note: you can add more cells as needed to organise your code and your plots\n"
      ],
      "execution_count": null,
      "outputs": [
        {
          "output_type": "execute_result",
          "data": {
            "text/plain": [
              "array([18., 15., 18., 16., 17., 15., 14., 14., 14., 15., 15., 14., 15.,\n",
              "       14., 22., 18., 21., 21., 10., 10., 11.,  9., 28., 25., 19., 16.,\n",
              "       17., 19., 18., 14., 14., 14., 14., 12., 13., 13., 18., 22., 19.,\n",
              "       18., 23., 26., 25., 20., 21., 13., 14., 15., 14., 17., 11., 13.,\n",
              "       12., 13., 15., 13., 13., 14., 22., 28., 13., 14., 13., 14., 15.,\n",
              "       12., 13., 13., 14., 13., 12., 13., 18., 16., 18., 18., 23., 11.,\n",
              "       12., 13., 12., 18., 21., 19., 21., 15., 16., 15., 11., 20., 21.,\n",
              "       19., 15., 26., 25., 16., 16., 18., 16., 13., 14., 14., 14., 28.,\n",
              "       19., 18., 15., 15., 16., 15., 16., 14., 17., 16., 15., 18., 21.,\n",
              "       20., 13., 23., 20., 23., 18., 19., 25., 26., 18., 16., 16., 15.,\n",
              "       22., 22., 24., 23., 29., 25., 20., 18., 19., 18., 27., 13., 17.,\n",
              "       13., 13., 13., 30., 26., 18., 17., 16., 15., 18., 21., 19., 19.,\n",
              "       16., 16., 16., 16., 25., 26., 31., 34., 36., 20., 19., 20., 19.,\n",
              "       21., 20., 25., 21., 19., 21., 21., 19., 18., 19., 18., 18., 18.,\n",
              "       30., 31., 23., 24., 22., 20., 22., 20., 21., 17., 18., 17., 18.,\n",
              "       17., 16., 19., 19., 36., 27., 23., 24., 34., 35., 28., 29., 27.,\n",
              "       34., 32., 28., 26., 24., 19., 28., 24., 27., 27., 26., 24., 30.,\n",
              "       39., 35., 34., 30., 22., 27., 20., 18., 28., 27., 34., 31., 29.,\n",
              "       27., 24., 23., 38., 36., 25., 38., 26., 22., 36., 27., 27., 32.,\n",
              "       28., 31.])"
            ]
          },
          "metadata": {},
          "execution_count": 79
        }
      ]
    },
    {
      "cell_type": "markdown",
      "metadata": {
        "id": "B5d0tXDpIEj8"
      },
      "source": [
        "## Compare the two fleets\n",
        "\n",
        "The business analysts come up a comparison algorithm that requires the upper and lower bounds for the mean in order to say which fleet is better.\n",
        "1. Calculate the mean of both samples.\n",
        "2. Using the bootstrap function that you created:\n",
        "    - Construct the 95% CI of the mean of the current fleet.\n",
        "    - Construct the 95% CI of the mean of the new fleet.\n",
        "    - Are they comparable? (i.e., is one better than the other?) -- you can do this with a permutation test (check the lecture notes!)"
      ]
    },
    {
      "cell_type": "code",
      "metadata": {
        "id": "po4mp6zRHC0m",
        "colab": {
          "base_uri": "https://localhost:8080/",
          "height": 444
        },
        "outputId": "18ea28db-13dc-4f27-ab2a-cb67c4011163"
      },
      "source": [
        "# <---INSERT YOUR CODE HERE--->\n",
        "old_boots = []\n",
        "for i in range(100, 50000, 1000):\n",
        "    old_boot = bootstrap_mean_ci(old_data, old_data.shape[0], i, 95)\n",
        "    old_boots.append([i, old_boot[0], \"mean\"])\n",
        "    old_boots.append([i, old_boot[1], \"lower\"])\n",
        "    old_boots.append([i, old_boot[2], \"upper\"])\n",
        "\n",
        "df_old_boot = pd.DataFrame(old_boots, columns=['Boostrap Iterations', 'Mean', \"Value\"])\n",
        "sns_plot = sns.lmplot(df_old_boot.columns[0], df_old_boot.columns[1], data=df_old_boot, fit_reg=False, hue=\"Value\")\n",
        "\n",
        "sns_plot.axes[0, 0].set_ylim(0,)\n",
        "sns_plot.axes[0, 0].set_xlim(0, 50000)"
      ],
      "execution_count": null,
      "outputs": [
        {
          "output_type": "stream",
          "name": "stderr",
          "text": [
            "/usr/local/lib/python3.7/dist-packages/seaborn/_decorators.py:43: FutureWarning: Pass the following variables as keyword args: x, y. From version 0.12, the only valid positional argument will be `data`, and passing other arguments without an explicit keyword will result in an error or misinterpretation.\n",
            "  FutureWarning\n"
          ]
        },
        {
          "output_type": "execute_result",
          "data": {
            "text/plain": [
              "(0.0, 50000.0)"
            ]
          },
          "metadata": {},
          "execution_count": 80
        },
        {
          "output_type": "display_data",
          "data": {
            "image/png": "[encoded data removed]",
            "text/plain": [
              "<Figure size 425.125x360 with 1 Axes>"
            ]
          },
          "metadata": {
            "needs_background": "light"
          }
        }
      ]
    },
    {
      "cell_type": "code",
      "source": [
        "new_boots = []\n",
        "for i in range(100, 50000, 1000):\n",
        "    new_boot = bootstrap_mean_ci(new_data, old_data.shape[0], i, 95)\n",
        "    new_boots.append([i, new_boot[0], \"mean\"])\n",
        "    new_boots.append([i, new_boot[1], \"lower\"])\n",
        "    new_boots.append([i, new_boot[2], \"upper\"])\n",
        "\n",
        "df_new_boot = pd.DataFrame(new_boots, columns=['Boostrap Iterations', 'Mean', \"Value\"])\n",
        "sns_plot = sns.lmplot(df_new_boot.columns[0], df_new_boot.columns[1], data=df_new_boot, fit_reg=False, hue=\"Value\")\n",
        "\n",
        "sns_plot.axes[0, 0].set_ylim(0,)\n",
        "sns_plot.axes[0, 0].set_xlim(0, 50000)"
      ],
      "metadata": {
        "colab": {
          "base_uri": "https://localhost:8080/",
          "height": 444
        },
        "id": "bqtZk-YE-ASl",
        "outputId": "2f2dae25-ec5e-4699-9cec-c4c0014bddc5"
      },
      "execution_count": null,
      "outputs": [
        {
          "output_type": "stream",
          "name": "stderr",
          "text": [
            "/usr/local/lib/python3.7/dist-packages/seaborn/_decorators.py:43: FutureWarning: Pass the following variables as keyword args: x, y. From version 0.12, the only valid positional argument will be `data`, and passing other arguments without an explicit keyword will result in an error or misinterpretation.\n",
            "  FutureWarning\n"
          ]
        },
        {
          "output_type": "execute_result",
          "data": {
            "text/plain": [
              "(0.0, 50000.0)"
            ]
          },
          "metadata": {},
          "execution_count": 81
        },
        {
          "output_type": "display_data",
          "data": {
            "image/png": "[encoded data removed]",
            "text/plain": [
              "<Figure size 425.125x360 with 1 Axes>"
            ]
          },
          "metadata": {
            "needs_background": "light"
          }
        }
      ]
    },
    {
      "cell_type": "code",
      "metadata": {
        "id": "MkxvDZG4HC0n"
      },
      "source": [
        "# Create your own function for a permutation test here (you will need it for the lab quiz!):\n",
        "def permut_test(sample1, sample2, n_permutations):\n",
        "    \"\"\"\n",
        "    sample1: 1D array\n",
        "    sample2: 1D array (note that the size of the two arrays can be different)\n",
        "    n_permutations: number of permutations to calculate the p-value\n",
        "    \"\"\"\n",
        "    mean1= np.mean(sample1)\n",
        "    mean2= np.mean(sample2)\n",
        "    tobs= mean2-mean1\n",
        "    p=0\n",
        "    i=0\n",
        "    while i<n_permutations:\n",
        "      concat=np.concatenate((sample1,sample2))\n",
        "      perm= np.random.permutation(concat)\n",
        "      pold= perm[:len(sample1)]\n",
        "      pnew= perm[len(sample1):]\n",
        "      xpnew=np.mean(pnew)\n",
        "      xpold=np.mean(pold)\n",
        "      tperm=xpnew-xpold\n",
        "      if tperm>tobs:\n",
        "        p+=1\n",
        "      i+=1\n",
        "      #print(i)\n",
        "    pvalue=p/n_permutations\n",
        "\n",
        "    return pvalue"
      ],
      "execution_count": null,
      "outputs": []
    },
    {
      "cell_type": "code",
      "source": [
        "def bootstrap_std_ci(sample, sample_size, n_bootstraps, ci):\n",
        "\t# <---INSERT YOUR CODE HERE--->\n",
        "\tbootstraps = np.random.choice(sample,size=[n_bootstraps,sample_size])\n",
        "\tdata_std = np.mean(bootstraps)\n",
        "\tdata_std_array=np.std(bootstraps, axis=1)\n",
        "\tlower = np.percentile(data_std_array,(100-ci)/2)\n",
        "\tupper = np.percentile(data_std_array,ci+(100-ci)/2)\n",
        "\treturn data_std, lower, upper "
      ],
      "metadata": {
        "id": "Rn8Jdo0LLURH"
      },
      "execution_count": null,
      "outputs": []
    },
    {
      "cell_type": "code",
      "source": [
        "bootstrap_std_ci(new_data,new_data.shape[0],10000,73)"
      ],
      "metadata": {
        "colab": {
          "base_uri": "https://localhost:8080/"
        },
        "id": "da4R9Ng-Lg--",
        "outputId": "51925866-358f-4467-d6b8-3dd8a00ad31f"
      },
      "execution_count": null,
      "outputs": [
        {
          "output_type": "execute_result",
          "data": {
            "text/plain": [
              "(30.47668101265823, 5.5148310571232075, 6.509218438835809)"
            ]
          },
          "metadata": {},
          "execution_count": 91
        }
      ]
    },
    {
      "cell_type": "code",
      "source": [
        "permut_test(old_data,new_data,3000)"
      ],
      "metadata": {
        "colab": {
          "base_uri": "https://localhost:8080/"
        },
        "id": "h54oMUayMWdf",
        "outputId": "3b3250db-d3c9-4470-92eb-42c13ea355f5"
      },
      "execution_count": null,
      "outputs": [
        {
          "output_type": "execute_result",
          "data": {
            "text/plain": [
              "0.0"
            ]
          },
          "metadata": {},
          "execution_count": 107
        }
      ]
    },
    {
      "cell_type": "code",
      "source": [
        "old_data"
      ],
      "metadata": {
        "colab": {
          "base_uri": "https://localhost:8080/"
        },
        "id": "KuQO9ydENzE9",
        "outputId": "eeac78f3-0108-4d3f-acef-83c82775e6f5"
      },
      "execution_count": null,
      "outputs": [
        {
          "output_type": "execute_result",
          "data": {
            "text/plain": [
              "array([18., 15., 18., 16., 17., 15., 14., 14., 14., 15., 15., 14., 15.,\n",
              "       14., 22., 18., 21., 21., 10., 10., 11.,  9., 28., 25., 19., 16.,\n",
              "       17., 19., 18., 14., 14., 14., 14., 12., 13., 13., 18., 22., 19.,\n",
              "       18., 23., 26., 25., 20., 21., 13., 14., 15., 14., 17., 11., 13.,\n",
              "       12., 13., 15., 13., 13., 14., 22., 28., 13., 14., 13., 14., 15.,\n",
              "       12., 13., 13., 14., 13., 12., 13., 18., 16., 18., 18., 23., 11.,\n",
              "       12., 13., 12., 18., 21., 19., 21., 15., 16., 15., 11., 20., 21.,\n",
              "       19., 15., 26., 25., 16., 16., 18., 16., 13., 14., 14., 14., 28.,\n",
              "       19., 18., 15., 15., 16., 15., 16., 14., 17., 16., 15., 18., 21.,\n",
              "       20., 13., 23., 20., 23., 18., 19., 25., 26., 18., 16., 16., 15.,\n",
              "       22., 22., 24., 23., 29., 25., 20., 18., 19., 18., 27., 13., 17.,\n",
              "       13., 13., 13., 30., 26., 18., 17., 16., 15., 18., 21., 19., 19.,\n",
              "       16., 16., 16., 16., 25., 26., 31., 34., 36., 20., 19., 20., 19.,\n",
              "       21., 20., 25., 21., 19., 21., 21., 19., 18., 19., 18., 18., 18.,\n",
              "       30., 31., 23., 24., 22., 20., 22., 20., 21., 17., 18., 17., 18.,\n",
              "       17., 16., 19., 19., 36., 27., 23., 24., 34., 35., 28., 29., 27.,\n",
              "       34., 32., 28., 26., 24., 19., 28., 24., 27., 27., 26., 24., 30.,\n",
              "       39., 35., 34., 30., 22., 27., 20., 18., 28., 27., 34., 31., 29.,\n",
              "       27., 24., 23., 38., 36., 25., 38., 26., 22., 36., 27., 27., 32.,\n",
              "       28., 31.])"
            ]
          },
          "metadata": {},
          "execution_count": 101
        }
      ]
    },
    {
      "cell_type": "code",
      "source": [
        "dem_share_PA = [60.08, 40.64, 36.07, 41.21, 31.04, 43.78, 44.08, 46.85, 44.71, 46.15, 63.10, 52.20, 43.18, 40.24, 39.92, 47.87, 37.77, 40.11, 49.85, 48.61, 38.62, 54.25, 34.84, 47.75, 43.82, 55.97, 58.23, 42.97, 42.38, 36.11, 37.53, 42.65, 50.96, 47.43, 56.24, 45.60, 46.39, 35.22, 48.56, 32.97, 57.88, 36.05, 37.72, 50.36, 32.12, 41.55, 54.66, 57.81, 54.58, 32.88, 54.37, 40.45, 47.61, 60.49, 43.11, 27.32, 44.03, 33.56, 37.26, 54.64, 43.12, 25.34, 49.79, 83.56, 40.09, 60.81, 49.81]\n",
        "dem_share_OH = [56.94, 50.46, 65.99, 45.88, 42.23, 45.26, 57.01, 53.61, 59.10, 61.48, 43.43, 44.69, 54.59, 48.36, 45.89, 48.62, 43.92, 38.23, 28.79, 63.57, 38.07, 40.18, 43.05, 41.56, 42.49, 36.06, 52.76, 46.07, 39.43, 39.26, 47.47, 27.92, 38.01, 45.45, 29.07, 28.94, 51.28, 50.10, 39.84, 36.43, 35.71, 31.47, 47.01, 40.10, 48.76, 31.56, 39.86, 45.31, 35.47, 51.38, 46.33, 48.73, 41.77, 41.32, 48.46, 53.14, 34.01, 54.74, 40.67, 38.96, 46.29, 38.25, 6.80, 31.75, 46.33, 44.90, 33.57, 38.10, 39.67, 40.47, 49.44, 37.62, 36.71, 46.73, 42.20, 53.16, 52.40, 58.36, 68.02, 38.53, 34.58, 69.64, 60.50, 53.53, 36.54, 49.58, 41.97, 38.11]\n",
        "len(dem_share_PA)"
      ],
      "metadata": {
        "colab": {
          "base_uri": "https://localhost:8080/"
        },
        "id": "6w1w07_VOAb1",
        "outputId": "f23700bc-15a3-4684-9afd-ae93f1f527ca"
      },
      "execution_count": null,
      "outputs": [
        {
          "output_type": "execute_result",
          "data": {
            "text/plain": [
              "67"
            ]
          },
          "metadata": {},
          "execution_count": 109
        }
      ]
    },
    {
      "cell_type": "code",
      "source": [
        "bootstrap_mean_ci(dem_share_PA,len(dem_share_PA),25000,90)"
      ],
      "metadata": {
        "colab": {
          "base_uri": "https://localhost:8080/"
        },
        "id": "sUl5yXyLPh3m",
        "outputId": "895a7f26-b692-4145-feaa-8d0a8ba91c8f"
      },
      "execution_count": null,
      "outputs": [
        {
          "output_type": "execute_result",
          "data": {
            "text/plain": [
              "(45.48427530746272, 43.57074626865672, 47.47926119402984)"
            ]
          },
          "metadata": {},
          "execution_count": 113
        }
      ]
    },
    {
      "cell_type": "code",
      "source": [
        "permut_test(dem_share_OH,dem_share_PA,20000)"
      ],
      "metadata": {
        "colab": {
          "base_uri": "https://localhost:8080/"
        },
        "id": "lNxRXbH4QTed",
        "outputId": "83695d22-2e3e-4c69-ee11-c9ef2a19ef65"
      },
      "execution_count": null,
      "outputs": [
        {
          "output_type": "execute_result",
          "data": {
            "text/plain": [
              "0.23235"
            ]
          },
          "metadata": {},
          "execution_count": 114
        }
      ]
    }
  ]
}